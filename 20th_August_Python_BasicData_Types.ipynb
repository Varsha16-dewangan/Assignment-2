{
 "cells": [
  {
   "cell_type": "markdown",
   "id": "7fe17f0c",
   "metadata": {},
   "source": [
    "# Write a program to reverse a string."
   ]
  },
  {
   "cell_type": "code",
   "execution_count": 1,
   "id": "73109f1b",
   "metadata": {},
   "outputs": [
    {
     "name": "stdout",
     "output_type": "stream",
     "text": [
      "gnirts\n"
     ]
    }
   ],
   "source": [
    "s = \"string\"\n",
    "v = s[::-1]\n",
    "print(v)"
   ]
  },
  {
   "cell_type": "markdown",
   "id": "8c8c5829",
   "metadata": {},
   "source": [
    "# Check if a string is a palindrome."
   ]
  },
  {
   "cell_type": "code",
   "execution_count": 2,
   "id": "de258280",
   "metadata": {},
   "outputs": [
    {
     "name": "stdout",
     "output_type": "stream",
     "text": [
      "Enter a string: level\n",
      "Yes, level is a palindrome.\n"
     ]
    }
   ],
   "source": [
    "s = input('Enter a string: ')\n",
    "cleaned_input = s.lower()\n",
    "check_palindrome = cleaned_input[::-1]\n",
    "if check_palindrome:\n",
    "    print(f'Yes, {s} is a palindrome.')\n",
    "else:\n",
    "    print(f'No, {s} is not a palindrome.')"
   ]
  },
  {
   "cell_type": "markdown",
   "id": "dd69dfbe",
   "metadata": {},
   "source": [
    "# Convert a string to uppercase."
   ]
  },
  {
   "cell_type": "code",
   "execution_count": 3,
   "id": "6abce83f",
   "metadata": {},
   "outputs": [
    {
     "name": "stdout",
     "output_type": "stream",
     "text": [
      "STRING\n"
     ]
    }
   ],
   "source": [
    "s = \"string\"\n",
    "v = s.upper()\n",
    "print(v)"
   ]
  },
  {
   "cell_type": "markdown",
   "id": "3f5729df",
   "metadata": {},
   "source": [
    "# Convert a string to lowercase."
   ]
  },
  {
   "cell_type": "code",
   "execution_count": 4,
   "id": "79a5fb0a",
   "metadata": {},
   "outputs": [
    {
     "name": "stdout",
     "output_type": "stream",
     "text": [
      "string\n"
     ]
    }
   ],
   "source": [
    "s = \"String\"\n",
    "v = s.lower()\n",
    "print(v)"
   ]
  },
  {
   "cell_type": "markdown",
   "id": "de6f4933",
   "metadata": {},
   "source": [
    "# Count the number of vowels in a string."
   ]
  },
  {
   "cell_type": "code",
   "execution_count": 5,
   "id": "376ef2fb",
   "metadata": {},
   "outputs": [
    {
     "name": "stdout",
     "output_type": "stream",
     "text": [
      "Enter a string: varsha\n",
      "The number of 'a' in 'varsha' is : 2\n",
      "The number of 'e' in 'varsha' is : 0\n",
      "The number of 'i' in 'varsha' is : 0\n",
      "The number of 'o' in 'varsha' is : 0\n",
      "The number of 'u' in 'varsha' is : 0\n"
     ]
    }
   ],
   "source": [
    "s = input('Enter a string: ').lower()\n",
    "\n",
    "count_vowels = {'a': 0, 'e': 0, 'i': 0, 'o': 0, 'u': 0}\n",
    "\n",
    "for char in s:\n",
    "    if char in count_vowels: \n",
    "        count_vowels[char] += 1\n",
    "\n",
    "for vowel, count in count_vowels.items():\n",
    "    print(f\"The number of '{vowel}' in '{s}' is : {count}\")\n"
   ]
  },
  {
   "cell_type": "markdown",
   "id": "35c87bf5",
   "metadata": {},
   "source": [
    "# Count the number of consonants in a string."
   ]
  },
  {
   "cell_type": "code",
   "execution_count": 6,
   "id": "08fd16e9",
   "metadata": {},
   "outputs": [
    {
     "name": "stdout",
     "output_type": "stream",
     "text": [
      "Enter a string: varsha\n",
      "The number of 'v' in 'varsha' is : 0\n",
      "The number of 'r' in 'varsha' is : 0\n",
      "The number of 's' in 'varsha' is : 0\n",
      "The number of 'h' in 'varsha' is : 0\n"
     ]
    }
   ],
   "source": [
    "s = input('Enter a string: ').lower()\n",
    "count_consonants = {}\n",
    "\n",
    "for char in s:\n",
    "    if char.isalpha() and char not in 'aeiou':\n",
    "        if char in count_consonants:\n",
    "            count_consonants[char] += 1\n",
    "        else:\n",
    "            count_consonants[char] = 1\n",
    "            \n",
    "for consonants, counts in count_consonants.items():\n",
    "    print(f\"The number of '{consonants}' in '{s}' is : {count}\")"
   ]
  },
  {
   "cell_type": "markdown",
   "id": "7adc2acc",
   "metadata": {},
   "source": [
    "# Remove all whitespaces from a string."
   ]
  },
  {
   "cell_type": "code",
   "execution_count": 7,
   "id": "0c8883c3",
   "metadata": {},
   "outputs": [
    {
     "name": "stdout",
     "output_type": "stream",
     "text": [
      "enter a string:    hello   \n"
     ]
    },
    {
     "data": {
      "text/plain": [
       "'hello'"
      ]
     },
     "execution_count": 7,
     "metadata": {},
     "output_type": "execute_result"
    }
   ],
   "source": [
    "user_input = input('enter a string: ')\n",
    "result = user_input.strip()\n",
    "result\n"
   ]
  },
  {
   "cell_type": "markdown",
   "id": "72432af4",
   "metadata": {},
   "source": [
    "# Find the length of a string without using the `len()` function."
   ]
  },
  {
   "cell_type": "code",
   "execution_count": 8,
   "id": "da84d201",
   "metadata": {},
   "outputs": [
    {
     "name": "stdout",
     "output_type": "stream",
     "text": [
      "The length of the string: '13'\n"
     ]
    }
   ],
   "source": [
    "input_string = 'Hello, World!'\n",
    "length = 0\n",
    "\n",
    "for char in input_string:\n",
    "    length += 1\n",
    "    \n",
    "print(f\"The length of the string: '{length}'\")    "
   ]
  },
  {
   "cell_type": "markdown",
   "id": "e16f808c",
   "metadata": {},
   "source": [
    "# Check if a string contains a specific word."
   ]
  },
  {
   "cell_type": "code",
   "execution_count": 9,
   "id": "06bdee8d",
   "metadata": {},
   "outputs": [
    {
     "name": "stdout",
     "output_type": "stream",
     "text": [
      "The string contains the word 'sample'. \n"
     ]
    }
   ],
   "source": [
    "input_string = \"This is a sample string to check for a specific word.\"\n",
    "specific_word = \"sample\"\n",
    "\n",
    "if specific_word in input_string:\n",
    "    print(f\"The string contains the word '{specific_word}'. \")\n",
    "else:\n",
    "    print(f\"The string does not contain the word '{specific_word}'. \")"
   ]
  },
  {
   "cell_type": "markdown",
   "id": "36bee215",
   "metadata": {},
   "source": [
    "# Replace a word in a string with another word."
   ]
  },
  {
   "cell_type": "code",
   "execution_count": 10,
   "id": "d43af888",
   "metadata": {},
   "outputs": [
    {
     "data": {
      "text/plain": [
       "'Jello'"
      ]
     },
     "execution_count": 10,
     "metadata": {},
     "output_type": "execute_result"
    }
   ],
   "source": [
    "s = \"Hello\"\n",
    "c = s.replace('H', 'J')\n",
    "c"
   ]
  },
  {
   "cell_type": "markdown",
   "id": "6e9d5ab0",
   "metadata": {},
   "source": [
    "# Count the occurrences of a word in a string."
   ]
  },
  {
   "cell_type": "code",
   "execution_count": 11,
   "id": "6583d116",
   "metadata": {},
   "outputs": [
    {
     "data": {
      "text/plain": [
       "1"
      ]
     },
     "execution_count": 11,
     "metadata": {},
     "output_type": "execute_result"
    }
   ],
   "source": [
    "s = \"Hello, people good evening!\"\n",
    "counts = s.count('people')\n",
    "counts"
   ]
  },
  {
   "cell_type": "markdown",
   "id": "67df468f",
   "metadata": {},
   "source": [
    "# Find the first occurrence of a word in a string."
   ]
  },
  {
   "cell_type": "code",
   "execution_count": 12,
   "id": "7e2e4bcb",
   "metadata": {},
   "outputs": [
    {
     "data": {
      "text/plain": [
       "7"
      ]
     },
     "execution_count": 12,
     "metadata": {},
     "output_type": "execute_result"
    }
   ],
   "source": [
    "s = \"I love apples, apples are my favourite fruits\"\n",
    "counts = s.find('apples')\n",
    "counts"
   ]
  },
  {
   "cell_type": "markdown",
   "id": "91e29543",
   "metadata": {},
   "source": [
    "# Find the last occurrence of a word in a string."
   ]
  },
  {
   "cell_type": "code",
   "execution_count": 13,
   "id": "8ec5a71d",
   "metadata": {},
   "outputs": [
    {
     "data": {
      "text/plain": [
       "15"
      ]
     },
     "execution_count": 13,
     "metadata": {},
     "output_type": "execute_result"
    }
   ],
   "source": [
    "s = \"I love apples, apples are my favourite fruits\"\n",
    "counts = s.rfind('apples')\n",
    "counts"
   ]
  },
  {
   "cell_type": "markdown",
   "id": "ff0229d2",
   "metadata": {},
   "source": [
    "# Split a string into a list of words."
   ]
  },
  {
   "cell_type": "code",
   "execution_count": 14,
   "id": "5ec120dd",
   "metadata": {},
   "outputs": [
    {
     "name": "stdout",
     "output_type": "stream",
     "text": [
      "['This', 'is', 'an', 'example', 'sentence.']\n"
     ]
    }
   ],
   "source": [
    "input_string = \"This is an example sentence.\"\n",
    "\n",
    "\n",
    "word_list = input_string.split()\n",
    "\n",
    "print(word_list)\n"
   ]
  },
  {
   "cell_type": "markdown",
   "id": "cf75dc80",
   "metadata": {},
   "source": [
    "# Join a list of words into a string."
   ]
  },
  {
   "cell_type": "code",
   "execution_count": 15,
   "id": "63bc0a96",
   "metadata": {},
   "outputs": [
    {
     "name": "stdout",
     "output_type": "stream",
     "text": [
      "This is an example sentence.\n"
     ]
    }
   ],
   "source": [
    "word_list = [\"This\", \"is\", \"an\", \"example\", \"sentence.\"]\n",
    "joined_string = ' '.join(word_list)\n",
    "\n",
    "print(joined_string)\n"
   ]
  },
  {
   "cell_type": "markdown",
   "id": "effb52ce",
   "metadata": {},
   "source": [
    "# Convert a string where words are separated by spaces to one where words are separated by underscores."
   ]
  },
  {
   "cell_type": "code",
   "execution_count": 16,
   "id": "31436641",
   "metadata": {},
   "outputs": [
    {
     "name": "stdout",
     "output_type": "stream",
     "text": [
      "This_is_a_sentence.\n"
     ]
    }
   ],
   "source": [
    "s = 'This is a sentence.'\n",
    "converted_string = s.replace(' ', '_')\n",
    "print(converted_string)"
   ]
  },
  {
   "cell_type": "markdown",
   "id": "1d72564e",
   "metadata": {},
   "source": [
    "# Check if a string starts with a specific word or phrase."
   ]
  },
  {
   "cell_type": "code",
   "execution_count": 17,
   "id": "6deef85d",
   "metadata": {},
   "outputs": [
    {
     "name": "stdout",
     "output_type": "stream",
     "text": [
      "Enter a string: hello\n",
      "No!\n"
     ]
    }
   ],
   "source": [
    "user_input = input('Enter a string: ').lower()\n",
    "check = user_input.startswith('a')\n",
    "\n",
    "if check:\n",
    "    print('Yes!')\n",
    "else:\n",
    "    print('No!')"
   ]
  },
  {
   "cell_type": "markdown",
   "id": "b9384aed",
   "metadata": {},
   "source": [
    "# Check if a string ends with a specific word or phrase"
   ]
  },
  {
   "cell_type": "code",
   "execution_count": 18,
   "id": "db3fc200",
   "metadata": {},
   "outputs": [
    {
     "name": "stdout",
     "output_type": "stream",
     "text": [
      "Enter a string: varsha\n",
      "Yes!\n"
     ]
    }
   ],
   "source": [
    "user_input = input('Enter a string: ').lower()\n",
    "check = user_input.endswith('a')\n",
    "\n",
    "if check:\n",
    "    print('Yes!')\n",
    "else:\n",
    "    print('No!')"
   ]
  },
  {
   "cell_type": "markdown",
   "id": "7219b6bd",
   "metadata": {},
   "source": [
    "# Convert a string to title case (e.g., \"hello world\" to \"Hello World\")."
   ]
  },
  {
   "cell_type": "code",
   "execution_count": 19,
   "id": "8c0fafc5",
   "metadata": {},
   "outputs": [
    {
     "name": "stdout",
     "output_type": "stream",
     "text": [
      "Enter a string: varsha\n",
      "Varsha\n"
     ]
    }
   ],
   "source": [
    "user_input = input('Enter a string: ').title()\n",
    "print(user_input)"
   ]
  },
  {
   "cell_type": "markdown",
   "id": "4b734ca0",
   "metadata": {},
   "source": [
    "# Find the longest word in a string."
   ]
  },
  {
   "cell_type": "code",
   "execution_count": 20,
   "id": "80097810",
   "metadata": {},
   "outputs": [
    {
     "name": "stdout",
     "output_type": "stream",
     "text": [
      "Enter a string: hello kiddos\n",
      "The longest word is kiddos with length 6.\n"
     ]
    }
   ],
   "source": [
    "user_input = input('Enter a string: ')\n",
    "words = user_input.split()\n",
    "\n",
    "longest_word = max(words, key = len)\n",
    "print(f\"The longest word is {longest_word} with length {len(longest_word)}.\")\n"
   ]
  },
  {
   "cell_type": "markdown",
   "id": "0680de24",
   "metadata": {},
   "source": [
    "# Find the shortest word in a string."
   ]
  },
  {
   "cell_type": "code",
   "execution_count": 21,
   "id": "e00e3c8e",
   "metadata": {},
   "outputs": [
    {
     "name": "stdout",
     "output_type": "stream",
     "text": [
      "The shortest word is 'Hello' with the length 5.\n"
     ]
    }
   ],
   "source": [
    "input_string = 'Hello kiddos!'\n",
    "word = input_string.split()\n",
    "\n",
    "shortest_word = min(word, key = len)\n",
    "print(f\"The shortest word is '{shortest_word}' with the length {len(shortest_word)}.\")"
   ]
  },
  {
   "cell_type": "markdown",
   "id": "0b2d992f",
   "metadata": {},
   "source": [
    "# Reverse the order of words in a string."
   ]
  },
  {
   "cell_type": "code",
   "execution_count": 22,
   "id": "f947570b",
   "metadata": {},
   "outputs": [
    {
     "name": "stdout",
     "output_type": "stream",
     "text": [
      "ENter a string: kaise hn aap sab\n",
      "sab  aap  hn  kaise\n"
     ]
    }
   ],
   "source": [
    "user_input = input('ENter a string: ')\n",
    "words = user_input.split()\n",
    "reversed_order = '  '.join(words[::-1])\n",
    "print(reversed_order)"
   ]
  },
  {
   "cell_type": "markdown",
   "id": "3192b4b4",
   "metadata": {},
   "source": [
    "# Check if a string is alphanumeric."
   ]
  },
  {
   "cell_type": "code",
   "execution_count": 23,
   "id": "68ce7ab4",
   "metadata": {},
   "outputs": [
    {
     "name": "stdout",
     "output_type": "stream",
     "text": [
      "ENter a string: company345\n",
      "Yes!\n"
     ]
    }
   ],
   "source": [
    "user_input = input('ENter a string: ')\n",
    "check = user_input.isalnum()\n",
    "\n",
    "if check:\n",
    "    print('Yes!')\n",
    "    \n",
    "else:\n",
    "    print(\"No!\")"
   ]
  },
  {
   "cell_type": "markdown",
   "id": "53ff841b",
   "metadata": {},
   "source": [
    "# Extract all digits from a string."
   ]
  },
  {
   "cell_type": "code",
   "execution_count": 24,
   "id": "514fefb8",
   "metadata": {},
   "outputs": [
    {
     "name": "stdout",
     "output_type": "stream",
     "text": [
      "[3, 5]\n"
     ]
    }
   ],
   "source": [
    "input_string = \"There are 3 apples and 5 oranges.\"\n",
    "individual_digits = []\n",
    "\n",
    "for char in input_string:\n",
    "    if char.isdigit():\n",
    "        individual_digits.append(int(char))\n",
    "\n",
    "print(individual_digits)"
   ]
  },
  {
   "cell_type": "markdown",
   "id": "d456d02d",
   "metadata": {},
   "source": [
    "# Extract all alphabets from a string."
   ]
  },
  {
   "cell_type": "code",
   "execution_count": 25,
   "id": "8d3344ec",
   "metadata": {},
   "outputs": [
    {
     "name": "stdout",
     "output_type": "stream",
     "text": [
      "There are  apples and  oranges\n"
     ]
    }
   ],
   "source": [
    "input_string = \"There are 3 apples and 5 oranges.\"\n",
    "\n",
    "alphabet =  \"\"\n",
    "\n",
    "for char in input_string:\n",
    "    if char.isalpha() or char.isspace():\n",
    "        alphabet += char\n",
    "        \n",
    "print(alphabet)"
   ]
  },
  {
   "cell_type": "markdown",
   "id": "a837044d",
   "metadata": {},
   "source": [
    "# Count the number of uppercase letters in a string."
   ]
  },
  {
   "cell_type": "code",
   "execution_count": 26,
   "id": "eea29981",
   "metadata": {},
   "outputs": [
    {
     "name": "stdout",
     "output_type": "stream",
     "text": [
      "The number of upper case letters in the string is: 2\n"
     ]
    }
   ],
   "source": [
    "input_string = 'Hello, I\"m doing great!'\n",
    "counting = 0\n",
    "# letters = []\n",
    "\n",
    "for char in input_string:\n",
    "    if char.isupper():\n",
    "        counting += 1\n",
    "#         letters.append(char)\n",
    "        \n",
    "print(f\"The number of upper case letters in the string is: {counting}\") \n",
    "# print(f\"The upper case letters in the string is: {letters}\") "
   ]
  },
  {
   "cell_type": "markdown",
   "id": "0e3d7824",
   "metadata": {},
   "source": [
    "# Count the number of lowercase letters in a string."
   ]
  },
  {
   "cell_type": "code",
   "execution_count": 27,
   "id": "f301b850",
   "metadata": {},
   "outputs": [
    {
     "name": "stdout",
     "output_type": "stream",
     "text": [
      "The number of lowercase letters in the string is : 15\n"
     ]
    }
   ],
   "source": [
    "input_string = 'Hello, I\"m doing great!'\n",
    "counting = 0\n",
    "# letters = []\n",
    "\n",
    "for char in input_string:\n",
    "    if char.islower():\n",
    "        counting += 1\n",
    "#         letters.append(char)\n",
    "        \n",
    "print(f'The number of lowercase letters in the string is : {counting}')     \n",
    "# print(f'The number of lowercase letters in the string is : {letters}') "
   ]
  },
  {
   "cell_type": "markdown",
   "id": "2de3501e",
   "metadata": {},
   "source": [
    "# Swap the case of each character in a string."
   ]
  },
  {
   "cell_type": "code",
   "execution_count": 28,
   "id": "ffb19f4a",
   "metadata": {},
   "outputs": [
    {
     "name": "stdout",
     "output_type": "stream",
     "text": [
      "hELLO, i\"M dOING gREAT!\n"
     ]
    }
   ],
   "source": [
    "input_string = 'Hello, I\"m Doing Great!'\n",
    "words = input_string.swapcase()\n",
    "print(words)"
   ]
  },
  {
   "cell_type": "markdown",
   "id": "f47e0ab9",
   "metadata": {},
   "source": [
    "# Remove a specific word from a string."
   ]
  },
  {
   "cell_type": "code",
   "execution_count": 29,
   "id": "4a555daf",
   "metadata": {},
   "outputs": [
    {
     "name": "stdout",
     "output_type": "stream",
     "text": [
      "Result: This is a string to remove a word from the string.\n"
     ]
    }
   ],
   "source": [
    "input_string = \"This is a sample string to remove a word from the string.\"\n",
    "specific_word = \"sample\"\n",
    "input_string_split = input_string.split()\n",
    "\n",
    "if specific_word in input_string_split:\n",
    "    input_string_split.remove(specific_word)\n",
    "    \n",
    "    result = ' '.join(input_string_split)\n",
    "    print(f\"Result: {result}\")\n",
    "    \n",
    "else:\n",
    "    print(f\"The word {specific_word} is not found in the string.\")"
   ]
  },
  {
   "cell_type": "markdown",
   "id": "e92154de",
   "metadata": {},
   "source": [
    "# Check if a string is a valid email address."
   ]
  },
  {
   "cell_type": "code",
   "execution_count": 30,
   "id": "eb9197bf",
   "metadata": {},
   "outputs": [
    {
     "name": "stdout",
     "output_type": "stream",
     "text": [
      "Enter your email address: varshadewangan@gmail.com\n",
      "The email address \"varshadewangan@gmail.com\"  is valid.\n"
     ]
    }
   ],
   "source": [
    "email_address = input('Enter your email address: ')\n",
    "\n",
    "if '@' in email_address and '.' in email_address:\n",
    "    \n",
    "    if email_address.index('@') < email_address.index('.'):\n",
    "        print(f'The email address \"{email_address}\"  is valid.')\n",
    "    else:\n",
    "        print(f'The email address \"{email_address}\"  is invalid.')\n",
    "else:\n",
    "    print(f'The email address \"{email_address}\"  is invalid.')"
   ]
  },
  {
   "cell_type": "markdown",
   "id": "bea1193d",
   "metadata": {},
   "source": [
    "# Extract the username from an email address string."
   ]
  },
  {
   "cell_type": "code",
   "execution_count": 31,
   "id": "efc7be05",
   "metadata": {},
   "outputs": [
    {
     "name": "stdout",
     "output_type": "stream",
     "text": [
      "Enter your email address: varshadewangan@gmail.com\n",
      "The username from the email \"varshadewangan@gmail.com\" is \"varshadewangan\".\n"
     ]
    }
   ],
   "source": [
    "email_address = input('Enter your email address: ')\n",
    "username = email_address.split('@')[0]\n",
    "print(f'The username from the email \"{email_address}\" is \"{username}\".')\n"
   ]
  },
  {
   "cell_type": "markdown",
   "id": "aacd95a0",
   "metadata": {},
   "source": [
    "# Extract the domain name from an email address string."
   ]
  },
  {
   "cell_type": "code",
   "execution_count": 32,
   "id": "c7bf3d1b",
   "metadata": {},
   "outputs": [
    {
     "name": "stdout",
     "output_type": "stream",
     "text": [
      "Enter your email address: varshadewangan@gmail.com\n",
      "The username from the email \"varshadewangan@gmail.com\" is \"gmail.com\".\n"
     ]
    }
   ],
   "source": [
    "email_address = input('Enter your email address: ')\n",
    "domain = email_address.split('@')[1]\n",
    "print(f'The username from the email \"{email_address}\" is \"{domain}\".')"
   ]
  },
  {
   "cell_type": "markdown",
   "id": "4dcec012",
   "metadata": {},
   "source": [
    "# Replace multiple spaces in a string with a single space."
   ]
  },
  {
   "cell_type": "code",
   "execution_count": 33,
   "id": "0519dddf",
   "metadata": {},
   "outputs": [
    {
     "name": "stdout",
     "output_type": "stream",
     "text": [
      "Hello, I\"m Doing Great !\n"
     ]
    }
   ],
   "source": [
    "input_string = 'Hello,  I\"m Doing  Great  !'\n",
    "modified_string = ' '.join(input_string.split())\n",
    "print(modified_string)"
   ]
  },
  {
   "cell_type": "markdown",
   "id": "0fca6940",
   "metadata": {},
   "source": [
    "# Check if a string is a valid URL."
   ]
  },
  {
   "cell_type": "code",
   "execution_count": 34,
   "id": "80ad5f0d",
   "metadata": {},
   "outputs": [
    {
     "name": "stdout",
     "output_type": "stream",
     "text": [
      "Enter URL: https://@varshadewangan\n",
      "The URL \"https://@varshadewangan\" is valid.\n"
     ]
    }
   ],
   "source": [
    "url = input('Enter URL: ')\n",
    "\n",
    "if url.startswith(('http://', 'https://', 'ftp://')):\n",
    "    print(f'The URL \"{url}\" is valid.')\n",
    "else:    \n",
    "    print(f'The URL \"{url}\" is invalid.')"
   ]
  },
  {
   "cell_type": "markdown",
   "id": "1c7bd516",
   "metadata": {},
   "source": [
    "# Extract the protocol (http or https) from a URL string."
   ]
  },
  {
   "cell_type": "code",
   "execution_count": 35,
   "id": "d597da63",
   "metadata": {},
   "outputs": [
    {
     "name": "stdout",
     "output_type": "stream",
     "text": [
      "Enter URL: https://@varshadewangan\n",
      " The protocol extract from the url 'https://@varshadewangan' is 'https'.\n"
     ]
    }
   ],
   "source": [
    "url = input('Enter URL: ')\n",
    "protocol = url.split(':')[0]\n",
    "print(f\" The protocol extract from the url '{url}' is '{protocol}'.\")"
   ]
  },
  {
   "cell_type": "markdown",
   "id": "be017822",
   "metadata": {},
   "source": [
    "# Find the frequency of each character in a string."
   ]
  },
  {
   "cell_type": "code",
   "execution_count": 36,
   "id": "ded71ec3",
   "metadata": {},
   "outputs": [
    {
     "name": "stdout",
     "output_type": "stream",
     "text": [
      "The character 'H' appears '1' times.\n",
      "The character 'e' appears '1' times.\n",
      "The character 'l' appears '3' times.\n",
      "The character 'o' appears '2' times.\n",
      "The character ',' appears '1' times.\n",
      "The character ' ' appears '1' times.\n",
      "The character 'W' appears '1' times.\n",
      "The character 'r' appears '1' times.\n",
      "The character 'd' appears '1' times.\n",
      "The character '!' appears '1' times.\n"
     ]
    }
   ],
   "source": [
    "input_string = 'Hello, World!'\n",
    "character_frequency = {}\n",
    "\n",
    "for char in input_string:\n",
    "    if char in character_frequency:\n",
    "        character_frequency[char] += 1\n",
    "    else:\n",
    "        character_frequency[char] = 1\n",
    "        \n",
    "for char, frequency in character_frequency.items():\n",
    "    print(f\"The character '{char}' appears '{frequency}' times.\")"
   ]
  },
  {
   "cell_type": "markdown",
   "id": "8462506b",
   "metadata": {},
   "source": [
    "# Remove all punctuation from a string."
   ]
  },
  {
   "cell_type": "code",
   "execution_count": 37,
   "id": "ea32ff71",
   "metadata": {},
   "outputs": [
    {
     "name": "stdout",
     "output_type": "stream",
     "text": [
      "hello Cuties kaise ho\n"
     ]
    }
   ],
   "source": [
    "input_string = \"hello!, Cuties!, kaise ho?\"\n",
    "punctuation_marks = ',?!'\n",
    "\n",
    "for char in punctuation_marks:\n",
    "    input_string = input_string.replace(char, '')\n",
    "    \n",
    "print(input_string)  "
   ]
  },
  {
   "cell_type": "markdown",
   "id": "4a642543",
   "metadata": {},
   "source": [
    "# Check if a string contains only digits."
   ]
  },
  {
   "cell_type": "code",
   "execution_count": 38,
   "id": "beb6dab4",
   "metadata": {},
   "outputs": [
    {
     "name": "stdout",
     "output_type": "stream",
     "text": [
      "String contains only digits!\n"
     ]
    }
   ],
   "source": [
    "input_string = '123456'\n",
    "# input_string = int(input_string)\n",
    "\n",
    "if input_string.isdigit():\n",
    "    print(\"String contains only digits!\")\n",
    "else:\n",
    "    print(\"String does not contain only digits!\")"
   ]
  },
  {
   "cell_type": "markdown",
   "id": "c05cfc67",
   "metadata": {},
   "source": [
    "# Check if a string contains only alphabets."
   ]
  },
  {
   "cell_type": "code",
   "execution_count": 39,
   "id": "36e01fd6",
   "metadata": {},
   "outputs": [
    {
     "name": "stdout",
     "output_type": "stream",
     "text": [
      "String contains only alphabet!\n"
     ]
    }
   ],
   "source": [
    "input_string = 'Happy Birthday to me'\n",
    "input_string_without_spaces = input_string.replace(\" \", '')\n",
    "\n",
    "if input_string_without_spaces.isalpha():\n",
    "    print(\"String contains only alphabet!\")\n",
    "else:\n",
    "    print(\"String does not contain only alphabet!\")"
   ]
  },
  {
   "cell_type": "markdown",
   "id": "410a0849",
   "metadata": {},
   "source": [
    "# Convert a string to a list of characters."
   ]
  },
  {
   "cell_type": "code",
   "execution_count": 40,
   "id": "0d9564cf",
   "metadata": {},
   "outputs": [
    {
     "name": "stdout",
     "output_type": "stream",
     "text": [
      "['H', 'a', 'p', 'p', 'y', ' ', 'B', 'i', 'r', 't', 'h', 'd', 'a', 'y', ' ', 't', 'o', ' ', 'm', 'e']\n"
     ]
    }
   ],
   "source": [
    "input_string = 'Happy Birthday to me'\n",
    "char_list = list(input_string)\n",
    "print(char_list)"
   ]
  },
  {
   "cell_type": "markdown",
   "id": "a7e83d75",
   "metadata": {},
   "source": [
    "# Check if two strings are anagrams."
   ]
  },
  {
   "cell_type": "code",
   "execution_count": 41,
   "id": "9be03743",
   "metadata": {},
   "outputs": [
    {
     "name": "stdout",
     "output_type": "stream",
     "text": [
      "listen and silent are anagrams.\n"
     ]
    }
   ],
   "source": [
    "string1 = \"listen\"\n",
    "string2 = \"silent\"\n",
    "\n",
    "\n",
    "string1 = string1.replace(' ', '').lower()\n",
    "string2 = string2.replace(' ', '').lower()\n",
    "\n",
    "if sorted(string1) == sorted(string2):\n",
    "    print(f\"{string1} and {string2} are anagrams.\")\n",
    "else:\n",
    "    print(f\"{string1} and {string2} are not anagrams.\")"
   ]
  },
  {
   "cell_type": "markdown",
   "id": "f5d05428",
   "metadata": {},
   "source": [
    "# Encode a string using a Caesar cipher."
   ]
  },
  {
   "cell_type": "code",
   "execution_count": 42,
   "id": "ec340d6e",
   "metadata": {},
   "outputs": [
    {
     "name": "stdout",
     "output_type": "stream",
     "text": [
      "Encoded Text:  Khoor, Zruog\n"
     ]
    }
   ],
   "source": [
    "plain_text = \"Hello, World\"\n",
    "shift_amount = 3\n",
    "\n",
    "\n",
    "encrypted_text = \"\"\n",
    "\n",
    "for char in plain_text:\n",
    "    if char.isalpha():\n",
    "        shifted = ord(char) + shift_amount\n",
    "        \n",
    "        if char.islower():\n",
    "            if shifted > ord('z'):\n",
    "                shifted -= 26\n",
    "\n",
    "            elif shifted < ord('a'):\n",
    "                shifted += 26       \n",
    "\n",
    "        elif char.isupper():\n",
    "            if shifted > ord('Z'):\n",
    "                shifted -= 26\n",
    "\n",
    "            elif shifted < ord('A'):\n",
    "                shifted += 26       \n",
    "                \n",
    "            \n",
    "        encrypted_text += chr(shifted)\n",
    "        \n",
    "    else:\n",
    "            encrypted_text += char\n",
    "            \n",
    "print('Encoded Text: ', encrypted_text)            "
   ]
  },
  {
   "cell_type": "markdown",
   "id": "96c76751",
   "metadata": {},
   "source": [
    "# Decode a Caesar cipher encoded string."
   ]
  },
  {
   "cell_type": "code",
   "execution_count": 43,
   "id": "10bf356e",
   "metadata": {},
   "outputs": [
    {
     "name": "stdout",
     "output_type": "stream",
     "text": [
      "DecodeD text:  Hello, World!\n"
     ]
    }
   ],
   "source": [
    "encrypted_text = \"Khoor, Zruog!\"\n",
    "shift_amount = 3\n",
    "\n",
    "decrypted_text = ''\n",
    "\n",
    "for char in encrypted_text:\n",
    "    if char.isalpha():\n",
    "        shifted = ord(char) - shift_amount\n",
    "        \n",
    "        if char.islower():\n",
    "            if shifted < ord('a'):\n",
    "                shifted += 26\n",
    "        elif char.isupper():\n",
    "            if shifted < ord('A'):\n",
    "                shifted += 26\n",
    "                \n",
    "        decrypted_text += chr(shifted) \n",
    "    else:\n",
    "        decrypted_text += char\n",
    "        \n",
    "print(\"DecodeD text: \", decrypted_text)        \n",
    "                \n",
    "                "
   ]
  },
  {
   "cell_type": "markdown",
   "id": "fa27eef2",
   "metadata": {},
   "source": [
    "# Find the most frequent word in a string."
   ]
  },
  {
   "cell_type": "code",
   "execution_count": 44,
   "id": "bc400b5b",
   "metadata": {},
   "outputs": [
    {
     "name": "stdout",
     "output_type": "stream",
     "text": [
      "The most frequent word is 'this' with a frequency of '2' times.\n"
     ]
    }
   ],
   "source": [
    "input_string = \"This is the sample string. This string contains words. Sample string for example.\"\n",
    "\n",
    "input_string_lower = input_string.lower()\n",
    "\n",
    "words = input_string_lower.split()\n",
    "\n",
    "word_freq = {}\n",
    "\n",
    "for word in words:\n",
    "    if word in word_freq:\n",
    "        word_freq[word] += 1\n",
    "    else:   \n",
    "        word_freq[word] = 1\n",
    "        \n",
    "most_frequent_word = max(word_freq, key = word_freq.get)\n",
    "frequency = word_freq[most_frequent_word]\n",
    "\n",
    "print(f\"The most frequent word is '{most_frequent_word}' with a frequency of '{frequency}' times.\")"
   ]
  },
  {
   "cell_type": "markdown",
   "id": "32cc02c1",
   "metadata": {},
   "source": [
    "# Find all unique words in a string."
   ]
  },
  {
   "cell_type": "code",
   "execution_count": 45,
   "id": "83167a6b",
   "metadata": {},
   "outputs": [
    {
     "name": "stdout",
     "output_type": "stream",
     "text": [
      "Unique words in the string:\n",
      "for\n",
      "is\n",
      "the\n",
      "string.\n",
      "this\n",
      "sample\n",
      "example.\n",
      "contains\n",
      "string\n",
      "words.\n"
     ]
    }
   ],
   "source": [
    "input_string = \"This is the sample string. This string contains words. Sample string for example.\"\n",
    "\n",
    "input_string_lower = input_string.lower()\n",
    "\n",
    "words = input_string_lower.split()\n",
    "\n",
    "unique_words = set(words)\n",
    "\n",
    "print(\"Unique words in the string:\")\n",
    "\n",
    "\n",
    "\n",
    "for word in unique_words:\n",
    "    print(word)\n",
    "\n"
   ]
  },
  {
   "cell_type": "markdown",
   "id": "067edd93",
   "metadata": {},
   "source": [
    "# Count the number of syllables in a string."
   ]
  },
  {
   "cell_type": "code",
   "execution_count": 46,
   "id": "1b5f8a92",
   "metadata": {},
   "outputs": [
    {
     "name": "stdout",
     "output_type": "stream",
     "text": [
      "The word 'varsha dewangan' has approximately '5' syllables.\n"
     ]
    }
   ],
   "source": [
    "input_string = \"Varsha Dewangan\"\n",
    "input_string_lower = input_string.lower()\n",
    "vowels = 'aeiouy'\n",
    "\n",
    "count = 0\n",
    "\n",
    "\n",
    "for char in input_string_lower:\n",
    "    if char in vowels:\n",
    "        count += 1\n",
    "        \n",
    "if count == 0:\n",
    "    count = 1\n",
    "    \n",
    "print(f\"The word '{input_string_lower}' has approximately '{count}' syllables.\")    \n",
    "    "
   ]
  },
  {
   "cell_type": "markdown",
   "id": "908f1d3f",
   "metadata": {},
   "source": [
    "# Check if a string contains any special characters."
   ]
  },
  {
   "cell_type": "code",
   "execution_count": 47,
   "id": "e9841e48",
   "metadata": {},
   "outputs": [
    {
     "name": "stdout",
     "output_type": "stream",
     "text": [
      "Enter a string: how are you?\n",
      "The string 'how are you?' contains special characters.\n"
     ]
    }
   ],
   "source": [
    "input_string = input(\"Enter a string: \")\n",
    "special_char = any(not char.isalnum() and char != '' for char in input_string)\n",
    "\n",
    "if special_char:\n",
    "    print(f\"The string '{input_string}' contains special characters.\")\n",
    "else:\n",
    "    print(f\"The string '{input_string}' does not contain special characters.\")"
   ]
  },
  {
   "cell_type": "markdown",
   "id": "11dd4faa",
   "metadata": {},
   "source": [
    "# Remove the nth word from a string."
   ]
  },
  {
   "cell_type": "code",
   "execution_count": 48,
   "id": "1556994e",
   "metadata": {},
   "outputs": [
    {
     "name": "stdout",
     "output_type": "stream",
     "text": [
      "The modified string after removing the 3th word:\n",
      "This is sample string to demonstrate removing the nth word.\n"
     ]
    }
   ],
   "source": [
    "input_string = \"This is a sample string to demonstrate removing the nth word.\"\n",
    "n = 3  # Specify the position of the word to be removed (indexing starts from 1)\n",
    "\n",
    "words = input_string.split()\n",
    "if 1 <= n <= len(words):\n",
    "    del words[n - 1]  # Remove the nth word (subtract 1 for zero-based indexing)\n",
    "\n",
    "    # Join the words back into a string\n",
    "    modified_string = ' '.join(words)\n",
    "\n",
    "    print(f\"The modified string after removing the {n}th word:\")\n",
    "    print(modified_string)\n",
    "else:\n",
    "    print(f\"Invalid index. The string contains {len(words)} words. Please provide a valid index.\")\n"
   ]
  },
  {
   "cell_type": "markdown",
   "id": "f8f11d0e",
   "metadata": {},
   "source": [
    "# Insert a word at the nth position in a string."
   ]
  },
  {
   "cell_type": "code",
   "execution_count": 49,
   "id": "011cde9f",
   "metadata": {},
   "outputs": [
    {
     "name": "stdout",
     "output_type": "stream",
     "text": [
      "The modified string after inserting 'New_word' at the 4th position:\n",
      "This is a New_word sample string to demonstrate removing the nth word.\n"
     ]
    }
   ],
   "source": [
    "input_string = \"This is a sample string to demonstrate removing the nth word.\"\n",
    "word_to_insert = \"New_word\"\n",
    "n = 4\n",
    "\n",
    "words = input_string.split()\n",
    "if 1 <= n <= len(words) + 1:\n",
    "    words.insert(n-1, word_to_insert) \n",
    "    modified_string = ' '.join(words)\n",
    "\n",
    "    print(f\"The modified string after inserting '{word_to_insert}' at the {n}th position:\")\n",
    "    print(modified_string)\n",
    "else:\n",
    "    print(f\"Invalid index. Please provide a valid position to insert the word.\")\n"
   ]
  },
  {
   "cell_type": "markdown",
   "id": "85ba2ff1",
   "metadata": {},
   "source": [
    "# Convert a CSV string to a list of lists."
   ]
  },
  {
   "cell_type": "code",
   "execution_count": 50,
   "id": "e2443967",
   "metadata": {},
   "outputs": [
    {
     "name": "stdout",
     "output_type": "stream",
     "text": [
      "CSV String:\n",
      "---------------\n",
      "1,John,Doe\n",
      "2,Jane,Smith\n",
      "3,Bob,Johnson\n",
      "\n",
      " list of lists:\n",
      "-------------------\n",
      "['1', 'John', 'Doe']\n",
      "['2', 'Jane', 'Smith']\n",
      "['3', 'Bob', 'Johnson']\n"
     ]
    }
   ],
   "source": [
    "csv_string = \"1,John,Doe\\n2,Jane,Smith\\n3,Bob,Johnson\"\n",
    "rows = csv_string.split('\\n')\n",
    "list_of_lists = []\n",
    "\n",
    "\n",
    "for row in rows:\n",
    "    list_of_lists.append(row.split(','))\n",
    "\n",
    "    \n",
    "print('CSV String:')\n",
    "print('---------------')\n",
    "print(csv_string)\n",
    "\n",
    "print(\"\\n list of lists:\")\n",
    "print('-------------------')\n",
    "for row in list_of_lists:\n",
    "    print(row)\n",
    "    "
   ]
  },
  {
   "cell_type": "markdown",
   "id": "9ba86691",
   "metadata": {},
   "source": [
    "# List Based Practice Problem :"
   ]
  },
  {
   "cell_type": "markdown",
   "id": "9fcd7d24",
   "metadata": {},
   "source": [
    "# Create a list with integers from 1 to 10."
   ]
  },
  {
   "cell_type": "code",
   "execution_count": 51,
   "id": "e02d6cb2",
   "metadata": {},
   "outputs": [
    {
     "name": "stdout",
     "output_type": "stream",
     "text": [
      "[1, 2, 3, 4, 5, 6, 7, 8, 9, 10]\n"
     ]
    }
   ],
   "source": [
    "li = range(1,11)\n",
    "print(list(li))"
   ]
  },
  {
   "cell_type": "markdown",
   "id": "7103752d",
   "metadata": {},
   "source": [
    "# Find the length of a list without using the `len()` function."
   ]
  },
  {
   "cell_type": "code",
   "execution_count": 52,
   "id": "dc07b4fb",
   "metadata": {},
   "outputs": [
    {
     "name": "stdout",
     "output_type": "stream",
     "text": [
      "The length of the list is '10'\n"
     ]
    }
   ],
   "source": [
    "li = [1, 2, 3, 4, 5, 6, 7, 8, 9, 10]\n",
    "length = 0\n",
    "\n",
    "for char in li:\n",
    "    length += 1\n",
    "    \n",
    "print(f\"The length of the list is '{length}'\")    "
   ]
  },
  {
   "cell_type": "markdown",
   "id": "38975d29",
   "metadata": {},
   "source": [
    "# Append an element to the end of a list."
   ]
  },
  {
   "cell_type": "code",
   "execution_count": 53,
   "id": "f798f3c8",
   "metadata": {},
   "outputs": [
    {
     "name": "stdout",
     "output_type": "stream",
     "text": [
      "The appended list is: '['apple', 'banana', 'cherry', 'grapes']'\n"
     ]
    }
   ],
   "source": [
    "li = [\"apple\", 'banana', 'cherry']\n",
    "li.append('grapes')\n",
    "print(f\"The appended list is: '{li}'\")"
   ]
  },
  {
   "cell_type": "markdown",
   "id": "87f3811a",
   "metadata": {},
   "source": [
    "# Insert an element at a specific index in a list."
   ]
  },
  {
   "cell_type": "code",
   "execution_count": 54,
   "id": "e34d6179",
   "metadata": {},
   "outputs": [
    {
     "name": "stdout",
     "output_type": "stream",
     "text": [
      "The appended list is: '['apple', 'banana', 'grapes', 'cherry']'\n"
     ]
    }
   ],
   "source": [
    "li = [\"apple\", 'banana', 'cherry']\n",
    "li.insert(2,'grapes')\n",
    "print(f\"The appended list is: '{li}'\")"
   ]
  },
  {
   "cell_type": "markdown",
   "id": "b94f5926",
   "metadata": {},
   "source": [
    "# Remove an element from a list by its value."
   ]
  },
  {
   "cell_type": "code",
   "execution_count": 55,
   "id": "e3564d5f",
   "metadata": {},
   "outputs": [
    {
     "name": "stdout",
     "output_type": "stream",
     "text": [
      "The updated list is: '['apple', 'cherry']'\n"
     ]
    }
   ],
   "source": [
    "li = [\"apple\", 'banana', 'cherry']\n",
    "li.remove('banana')\n",
    "print(f\"The updated list is: '{li}'\")"
   ]
  },
  {
   "cell_type": "markdown",
   "id": "c6987e56",
   "metadata": {},
   "source": [
    "# Remove an element from a list by its index."
   ]
  },
  {
   "cell_type": "code",
   "execution_count": 56,
   "id": "039a8774",
   "metadata": {},
   "outputs": [
    {
     "name": "stdout",
     "output_type": "stream",
     "text": [
      "The updated list is: 'cherry'\n",
      "The updated list is: '['apple', 'banana']'\n"
     ]
    }
   ],
   "source": [
    "li = [\"apple\", 'banana', 'cherry']\n",
    "removed_li = li.pop(2)\n",
    "print(f\"The updated list is: '{removed_li}'\")\n",
    "print(f\"The updated list is: '{li}'\")"
   ]
  },
  {
   "cell_type": "markdown",
   "id": "2c3ebe51",
   "metadata": {},
   "source": [
    "# Check if an element exists in a list."
   ]
  },
  {
   "cell_type": "code",
   "execution_count": 57,
   "id": "d14543dd",
   "metadata": {},
   "outputs": [
    {
     "name": "stdout",
     "output_type": "stream",
     "text": [
      "Yes!, apple exists.\n"
     ]
    }
   ],
   "source": [
    "li = [\"apple\", 'banana', 'cherry']\n",
    "\n",
    "if 'apple' in li:\n",
    "    print('Yes!, apple exists.')\n",
    "else:\n",
    "    print(\"No!, apple doesn't exist.\")"
   ]
  },
  {
   "cell_type": "markdown",
   "id": "bf0c9acc",
   "metadata": {},
   "source": [
    "# Find the index of the first occurrence of an element in a list."
   ]
  },
  {
   "cell_type": "code",
   "execution_count": 58,
   "id": "59012512",
   "metadata": {},
   "outputs": [
    {
     "name": "stdout",
     "output_type": "stream",
     "text": [
      "0\n"
     ]
    }
   ],
   "source": [
    "li = [\"apple\", 'banana', 'cherry', 'grapes', 'apple']\n",
    "index_of_list = li.index('apple')\n",
    "print(index_of_list)"
   ]
  },
  {
   "cell_type": "markdown",
   "id": "42d4990e",
   "metadata": {},
   "source": [
    "# Count the occurrences of an element in a list."
   ]
  },
  {
   "cell_type": "code",
   "execution_count": 59,
   "id": "cddb2a0f",
   "metadata": {},
   "outputs": [
    {
     "name": "stdout",
     "output_type": "stream",
     "text": [
      "2\n"
     ]
    }
   ],
   "source": [
    "li = [\"apple\", 'banana', 'cherry', 'grapes', 'apple']\n",
    "counts = li.count('apple')\n",
    "print(counts)"
   ]
  },
  {
   "cell_type": "markdown",
   "id": "eeb06036",
   "metadata": {},
   "source": [
    "# Reverse the order of elements in a list."
   ]
  },
  {
   "cell_type": "code",
   "execution_count": 60,
   "id": "a7013416",
   "metadata": {},
   "outputs": [
    {
     "name": "stdout",
     "output_type": "stream",
     "text": [
      "grapes , cherry , banana , apple\n"
     ]
    }
   ],
   "source": [
    "li = [\"apple\", 'banana', 'cherry', 'grapes']\n",
    "reverse_order = ' , '.join(li[::-1])\n",
    "print(reverse_order)"
   ]
  },
  {
   "cell_type": "markdown",
   "id": "b4009004",
   "metadata": {},
   "source": [
    "# Sort a list in ascending order."
   ]
  },
  {
   "cell_type": "code",
   "execution_count": 61,
   "id": "2cae3c16",
   "metadata": {},
   "outputs": [
    {
     "name": "stdout",
     "output_type": "stream",
     "text": [
      "['apple', 'banana', 'cherry', 'grapes']\n"
     ]
    }
   ],
   "source": [
    "li = [\"cherry\", 'banana', 'apple' , 'grapes']\n",
    "li.sort()\n",
    "print(li)"
   ]
  },
  {
   "cell_type": "markdown",
   "id": "17caa58d",
   "metadata": {},
   "source": [
    "# Sort a list in descending order."
   ]
  },
  {
   "cell_type": "code",
   "execution_count": 62,
   "id": "ba55dc86",
   "metadata": {},
   "outputs": [
    {
     "name": "stdout",
     "output_type": "stream",
     "text": [
      "['grapes', 'cherry', 'banana', 'apple']\n"
     ]
    }
   ],
   "source": [
    "li = [\"cherry\", 'banana', 'apple' , 'grapes']\n",
    "li.sort(reverse = True)\n",
    "print(li)"
   ]
  },
  {
   "cell_type": "markdown",
   "id": "86514d81",
   "metadata": {},
   "source": [
    "# Create a list of even numbers from 1 to 20."
   ]
  },
  {
   "cell_type": "code",
   "execution_count": 63,
   "id": "ba2679f9",
   "metadata": {},
   "outputs": [
    {
     "name": "stdout",
     "output_type": "stream",
     "text": [
      "[2, 4, 6, 8, 10, 12, 14, 16, 18]\n"
     ]
    }
   ],
   "source": [
    "li = list(range(2,20,2))\n",
    "print(li)"
   ]
  },
  {
   "cell_type": "markdown",
   "id": "206bf1b3",
   "metadata": {},
   "source": [
    "# Create a list of odd numbers from 1 to 20."
   ]
  },
  {
   "cell_type": "code",
   "execution_count": 64,
   "id": "4afd9ddd",
   "metadata": {},
   "outputs": [
    {
     "name": "stdout",
     "output_type": "stream",
     "text": [
      "[1, 3, 5, 7, 9, 11, 13, 15, 17, 19]\n"
     ]
    }
   ],
   "source": [
    "li = list(range(1,20,2))\n",
    "print(li)"
   ]
  },
  {
   "cell_type": "markdown",
   "id": "4b623d63",
   "metadata": {},
   "source": [
    "# Find the sum of all elements in a list."
   ]
  },
  {
   "cell_type": "code",
   "execution_count": 65,
   "id": "613b8572",
   "metadata": {},
   "outputs": [
    {
     "name": "stdout",
     "output_type": "stream",
     "text": [
      "55\n"
     ]
    }
   ],
   "source": [
    "li = [1, 2, 3, 4, 5, 6, 7, 8, 9, 10]\n",
    "add_li = sum(li)\n",
    "print(add_li)"
   ]
  },
  {
   "cell_type": "markdown",
   "id": "11f9a9ab",
   "metadata": {},
   "source": [
    "# Find the maximum value in a list."
   ]
  },
  {
   "cell_type": "code",
   "execution_count": 66,
   "id": "608fdccb",
   "metadata": {},
   "outputs": [
    {
     "name": "stdout",
     "output_type": "stream",
     "text": [
      "10\n"
     ]
    }
   ],
   "source": [
    "li = [1, 2, 3, 4, 5, 6, 7, 8, 9, 10]\n",
    "max_li= max(li)\n",
    "print(max_li)"
   ]
  },
  {
   "cell_type": "markdown",
   "id": "75798fbf",
   "metadata": {},
   "source": [
    "# Find the minimum value in a list."
   ]
  },
  {
   "cell_type": "code",
   "execution_count": 67,
   "id": "be2ca3ac",
   "metadata": {},
   "outputs": [
    {
     "name": "stdout",
     "output_type": "stream",
     "text": [
      "1\n"
     ]
    }
   ],
   "source": [
    "li = [1, 2, 3, 4, 5, 6, 7, 8, 9, 10]\n",
    "min_li= min(li)\n",
    "print(min_li)"
   ]
  },
  {
   "cell_type": "markdown",
   "id": "1fec6a73",
   "metadata": {},
   "source": [
    "# Create a list of squares of numbers from 1 to 10."
   ]
  },
  {
   "cell_type": "code",
   "execution_count": 68,
   "id": "5b3baa5a",
   "metadata": {},
   "outputs": [
    {
     "name": "stdout",
     "output_type": "stream",
     "text": [
      "[1, 4, 9, 16, 25, 36, 49, 64, 81, 100]\n"
     ]
    }
   ],
   "source": [
    "li = [1, 2, 3, 4, 5, 6, 7, 8, 9, 10]\n",
    "square_li= [x**2 for x in li]\n",
    "print(square_li)"
   ]
  },
  {
   "cell_type": "markdown",
   "id": "30136b7c",
   "metadata": {},
   "source": [
    "# Create a list of random numbers."
   ]
  },
  {
   "cell_type": "code",
   "execution_count": 69,
   "id": "7c4ac622",
   "metadata": {},
   "outputs": [
    {
     "name": "stdout",
     "output_type": "stream",
     "text": [
      "[77, 46, 58, 8, 24, 86, 86, 90, 29, 95]\n"
     ]
    }
   ],
   "source": [
    "import random\n",
    "\n",
    "random_number = [random.randint(1,100) for _ in range(10)]\n",
    "print(random_number)"
   ]
  },
  {
   "cell_type": "markdown",
   "id": "794acccf",
   "metadata": {},
   "source": [
    "# Remove duplicates from a list."
   ]
  },
  {
   "cell_type": "code",
   "execution_count": 70,
   "id": "f7545b1c",
   "metadata": {},
   "outputs": [
    {
     "data": {
      "text/plain": [
       "[1, 2, 3, 4, 5, 6, 7, 8, 9, 10]"
      ]
     },
     "execution_count": 70,
     "metadata": {},
     "output_type": "execute_result"
    }
   ],
   "source": [
    "list_ = [1, 2, 3, 4, 5, 6, 7, 8, 2, 6,7, 7, 9, 10]\n",
    "list_set = set(list_)\n",
    "list_set\n",
    "\n",
    "set_list = list(list_set)\n",
    "set_list"
   ]
  },
  {
   "cell_type": "markdown",
   "id": "951f2db3",
   "metadata": {},
   "source": [
    "# Find the common elements between two lists."
   ]
  },
  {
   "cell_type": "code",
   "execution_count": 71,
   "id": "bd89b900",
   "metadata": {},
   "outputs": [
    {
     "data": {
      "text/plain": [
       "{3, 4, 5}"
      ]
     },
     "execution_count": 71,
     "metadata": {},
     "output_type": "execute_result"
    }
   ],
   "source": [
    "l1 = [1,2,3,4,5]\n",
    "l2 = [3,4,5,6,7,8]\n",
    "\n",
    "set_1 = set(l1)\n",
    "set_2 = set(l2)\n",
    "\n",
    "common =  set_1.intersection(set_2)\n",
    "common"
   ]
  },
  {
   "cell_type": "code",
   "execution_count": 72,
   "id": "aabc3f4c",
   "metadata": {},
   "outputs": [
    {
     "name": "stdout",
     "output_type": "stream",
     "text": [
      "Common Elements: [3, 4, 5]\n"
     ]
    }
   ],
   "source": [
    "common_elements = list(common)\n",
    "print('Common Elements:', common_elements)"
   ]
  },
  {
   "cell_type": "markdown",
   "id": "b3ce681d",
   "metadata": {},
   "source": [
    "# Find the difference between two lists."
   ]
  },
  {
   "cell_type": "code",
   "execution_count": 73,
   "id": "18e746b4",
   "metadata": {},
   "outputs": [
    {
     "data": {
      "text/plain": [
       "{1, 2}"
      ]
     },
     "execution_count": 73,
     "metadata": {},
     "output_type": "execute_result"
    }
   ],
   "source": [
    "l1 = [1,2,3,4,5]\n",
    "l2 = [3,4,5,6,7,8]\n",
    "\n",
    "set_1 = set(l1)\n",
    "set_2 = set(l2)\n",
    "\n",
    "different = set_1.difference(set_2)\n",
    "different"
   ]
  },
  {
   "cell_type": "code",
   "execution_count": 74,
   "id": "abbc0487",
   "metadata": {},
   "outputs": [
    {
     "data": {
      "text/plain": [
       "[1, 2]"
      ]
     },
     "execution_count": 74,
     "metadata": {},
     "output_type": "execute_result"
    }
   ],
   "source": [
    "different_elements = list(different)\n",
    "different_elements"
   ]
  },
  {
   "cell_type": "markdown",
   "id": "beef094f",
   "metadata": {},
   "source": [
    "# Merge two lists."
   ]
  },
  {
   "cell_type": "code",
   "execution_count": 75,
   "id": "ecd1af85",
   "metadata": {},
   "outputs": [
    {
     "data": {
      "text/plain": [
       "[1, 2, 3, 4, 5, 3, 4, 5, 6, 7, 8]"
      ]
     },
     "execution_count": 75,
     "metadata": {},
     "output_type": "execute_result"
    }
   ],
   "source": [
    "l1 = [1,2,3,4,5]\n",
    "l2 = [3,4,5,6,7,8]\n",
    "\n",
    "l1.extend(l2)\n",
    "l1"
   ]
  },
  {
   "cell_type": "markdown",
   "id": "37f8bbc6",
   "metadata": {},
   "source": [
    "# Multiply all elements in a list by 2."
   ]
  },
  {
   "cell_type": "code",
   "execution_count": 76,
   "id": "bf921a8e",
   "metadata": {},
   "outputs": [
    {
     "name": "stdout",
     "output_type": "stream",
     "text": [
      "[2, 4, 6, 8, 10]\n"
     ]
    }
   ],
   "source": [
    "list_ = [1,2,3,4,5]\n",
    "\n",
    "multiples = [x*2 for x in list_]\n",
    "print(multiples)"
   ]
  },
  {
   "cell_type": "markdown",
   "id": "c5dd78b5",
   "metadata": {},
   "source": [
    "# Filter out all even numbers from a list."
   ]
  },
  {
   "cell_type": "code",
   "execution_count": 77,
   "id": "bd28118b",
   "metadata": {},
   "outputs": [
    {
     "name": "stdout",
     "output_type": "stream",
     "text": [
      "[2, 4, 6, 8, 10]\n"
     ]
    }
   ],
   "source": [
    "list_ = [1,2,3,4,5,6,7,8,9,10]\n",
    "\n",
    "filtered_list = [x for x in list_ if x%2 == 0]\n",
    "print(filtered_list)"
   ]
  },
  {
   "cell_type": "markdown",
   "id": "38653489",
   "metadata": {},
   "source": [
    "# Convert a list of strings to a list of integers."
   ]
  },
  {
   "cell_type": "code",
   "execution_count": 78,
   "id": "f7226696",
   "metadata": {},
   "outputs": [
    {
     "name": "stdout",
     "output_type": "stream",
     "text": [
      "[1, 2, 3, 4, 5]\n"
     ]
    }
   ],
   "source": [
    "list_of_strings = ['1', '2', '3', '4', '5']\n",
    "list_of_integers = [int(num) for num in list_of_strings]\n",
    "print(list_of_integers)"
   ]
  },
  {
   "cell_type": "markdown",
   "id": "bc286f92",
   "metadata": {},
   "source": [
    "# Convert a list of integers to a list of strings."
   ]
  },
  {
   "cell_type": "code",
   "execution_count": 79,
   "id": "97f3bf1e",
   "metadata": {},
   "outputs": [
    {
     "name": "stdout",
     "output_type": "stream",
     "text": [
      "['1', '2', '3', '4', '5']\n"
     ]
    }
   ],
   "source": [
    "list_of_integers = [1,2,3,4,5]\n",
    "\n",
    "list_of_strings = [str(num) for num in list_of_integers]\n",
    "print(list_of_strings)"
   ]
  },
  {
   "cell_type": "markdown",
   "id": "301d6778",
   "metadata": {},
   "source": [
    "# Flatten a nested list."
   ]
  },
  {
   "cell_type": "code",
   "execution_count": 80,
   "id": "da0e3e10",
   "metadata": {},
   "outputs": [
    {
     "name": "stdout",
     "output_type": "stream",
     "text": [
      "[1, 2, 3, 4, 5, 6, 7, 8]\n"
     ]
    }
   ],
   "source": [
    "nested_list = [1, [2, 3, [4, 5]], 6, [7, 8]]\n",
    "\n",
    "flat_list = []\n",
    "\n",
    "for sublist in nested_list:\n",
    "    if type(sublist) == list:\n",
    "        for element in sublist:\n",
    "            if type(element) == list:\n",
    "                for sub_element in element:\n",
    "                    flat_list.append(sub_element)\n",
    "            else:\n",
    "                flat_list.append(element)\n",
    "    else:\n",
    "        flat_list.append(sublist)\n",
    "        \n",
    "print(flat_list)        "
   ]
  },
  {
   "cell_type": "markdown",
   "id": "14d80c05",
   "metadata": {},
   "source": [
    "# Create a list of the first 10 Fibonacci numbers."
   ]
  },
  {
   "cell_type": "code",
   "execution_count": 81,
   "id": "45dacef6",
   "metadata": {},
   "outputs": [
    {
     "name": "stdout",
     "output_type": "stream",
     "text": [
      "[0, 1, 1, 2, 3, 5, 8, 13, 21, 34]\n"
     ]
    }
   ],
   "source": [
    "fibonacci_list = [0,1]\n",
    "\n",
    "for i in range(2,10):\n",
    "    next_number = fibonacci_list[i-1] + fibonacci_list[i-2]\n",
    "    fibonacci_list.append(next_number)\n",
    "    \n",
    "print(fibonacci_list)    "
   ]
  },
  {
   "cell_type": "markdown",
   "id": "653d8ccd",
   "metadata": {},
   "source": [
    "# Check if a list is sorted."
   ]
  },
  {
   "cell_type": "code",
   "execution_count": 82,
   "id": "37d6e146",
   "metadata": {},
   "outputs": [
    {
     "name": "stdout",
     "output_type": "stream",
     "text": [
      "No, the list is unsorted.\n"
     ]
    }
   ],
   "source": [
    "list_l = [ 6, 7, 8, 1, 2, 6, 8, 3, 4, 5]\n",
    "sorted_list = sorted(list_l)\n",
    "\n",
    "if list_l == sorted_list:\n",
    "    print('Yes, the list is sorted.')\n",
    "else:\n",
    "    print('No, the list is unsorted.')"
   ]
  },
  {
   "cell_type": "markdown",
   "id": "1ec8eef9",
   "metadata": {},
   "source": [
    "# Rotate a list to the left by `n` positions."
   ]
  },
  {
   "cell_type": "code",
   "execution_count": 83,
   "id": "c97d56db",
   "metadata": {},
   "outputs": [
    {
     "name": "stdout",
     "output_type": "stream",
     "text": [
      "Original List: [4, 5, 6, 7, 1, 2, 3]\n"
     ]
    }
   ],
   "source": [
    "my_list = [1,2,3,4,5,6,7]\n",
    "positions = 3\n",
    "\n",
    "for _ in range(positions):\n",
    "    first_element = my_list[0]\n",
    "    my_list = my_list[1:] + [first_element]\n",
    "\n",
    "    \n",
    "print('Original List:', my_list)    "
   ]
  },
  {
   "cell_type": "markdown",
   "id": "aff9d0ce",
   "metadata": {},
   "source": [
    "# Rotate a list to the right by n positions."
   ]
  },
  {
   "cell_type": "code",
   "execution_count": 84,
   "id": "cc0cd62b",
   "metadata": {},
   "outputs": [
    {
     "name": "stdout",
     "output_type": "stream",
     "text": [
      "Original List: [5, 6, 7, 1, 2, 3, 4]\n"
     ]
    }
   ],
   "source": [
    "my_list = [1,2,3,4,5,6,7]\n",
    "positions = 3\n",
    "\n",
    "for _ in range(positions):\n",
    "    last_element = my_list.pop()\n",
    "    my_list = [last_element] + my_list\n",
    "    \n",
    "print(\"Original List:\", my_list)    "
   ]
  },
  {
   "cell_type": "markdown",
   "id": "1dc0bf33",
   "metadata": {},
   "source": [
    "# Create a list of prime numbers up to 50."
   ]
  },
  {
   "cell_type": "code",
   "execution_count": 85,
   "id": "9507a663",
   "metadata": {},
   "outputs": [
    {
     "name": "stdout",
     "output_type": "stream",
     "text": [
      "List of prime numbers up to 50:\n",
      "  [2, 3, 5, 7, 11, 13, 17, 19, 23, 29, 31, 37, 41, 43, 47]\n"
     ]
    }
   ],
   "source": [
    "prime_number = []\n",
    "\n",
    "for num in range(2,51):\n",
    "    is_prime = True\n",
    "    for i in range(2, num):\n",
    "        if num % i == 0:\n",
    "            is_prime = False\n",
    "            break\n",
    "            \n",
    "    if is_prime:\n",
    "        prime_number.append(num)\n",
    "        \n",
    "print(\"List of prime numbers up to 50:\\n \",prime_number)        "
   ]
  },
  {
   "cell_type": "markdown",
   "id": "22205ecc",
   "metadata": {},
   "source": [
    "# Split a list into chunks of size `n`."
   ]
  },
  {
   "cell_type": "code",
   "execution_count": 86,
   "id": "1b33119d",
   "metadata": {},
   "outputs": [
    {
     "name": "stdout",
     "output_type": "stream",
     "text": [
      "Original List: [1, 2, 3, 4, 5, 6, 7, 8, 9, 10, 11]\n",
      "List split into chunks of size 12: [[1, 2, 3, 4, 5, 6, 7, 8, 9, 10, 11]]\n"
     ]
    }
   ],
   "source": [
    "mylist = [1,2,3,4,5,6,7,8,9,10,11]\n",
    "n = 12\n",
    "\n",
    "chunked_list = []\n",
    "chunk = []\n",
    "\n",
    "for item in mylist:\n",
    "    if len(chunk) < n:\n",
    "        chunk.append(item)\n",
    "        \n",
    "    else:\n",
    "        chunked_list.append(chunk)\n",
    "        chunk = [item]\n",
    "        \n",
    "if chunk:\n",
    "    chunked_list.append(chunk)\n",
    "    \n",
    "print(\"Original List:\", mylist)\n",
    "print(f\"List split into chunks of size {n}:\", chunked_list)"
   ]
  },
  {
   "cell_type": "markdown",
   "id": "33397370",
   "metadata": {},
   "source": [
    "# Find the second largest number in a list."
   ]
  },
  {
   "cell_type": "code",
   "execution_count": 87,
   "id": "e5dbb3a2",
   "metadata": {},
   "outputs": [
    {
     "name": "stdout",
     "output_type": "stream",
     "text": [
      "[0, 2, 5, 7, 12, 23, 34, 45, 87]\n",
      "The second largest number in the list is: 45\n"
     ]
    }
   ],
   "source": [
    "mylist = [12, 45, 23, 2, 7, 34, 0, 87, 5]\n",
    "mylist.sort()\n",
    "print(mylist)\n",
    "print('The second largest number in the list is:', mylist[-2])"
   ]
  },
  {
   "cell_type": "markdown",
   "id": "c499662a",
   "metadata": {},
   "source": [
    "# Replace every element in a list with its square."
   ]
  },
  {
   "cell_type": "code",
   "execution_count": 88,
   "id": "c6f7b502",
   "metadata": {},
   "outputs": [
    {
     "name": "stdout",
     "output_type": "stream",
     "text": [
      "Original List [1, 2, 3, 4, 5, 6, 7, 8, 9, 10]\n",
      "squared List [1, 4, 9, 16, 25, 36, 49, 64, 81, 100]\n"
     ]
    }
   ],
   "source": [
    "li = [1, 2, 3, 4, 5, 6, 7, 8, 9, 10]\n",
    "\n",
    "square_li= [x**2 for x in li]\n",
    "print('Original List', li)\n",
    "print('squared List', square_li)"
   ]
  },
  {
   "cell_type": "markdown",
   "id": "392b907d",
   "metadata": {},
   "source": [
    "# Convert a list to a dictionary where list elements become keys and their indices become values."
   ]
  },
  {
   "cell_type": "code",
   "execution_count": 89,
   "id": "78c6231c",
   "metadata": {},
   "outputs": [
    {
     "name": "stdout",
     "output_type": "stream",
     "text": [
      "Original List:  ['apple', 'banana', 'cherry', 'date']\n",
      "Dictionary with element as keys and indices as values:\n",
      " {'apple': 0, 'banana': 1, 'cherry': 2, 'date': 3}\n"
     ]
    }
   ],
   "source": [
    "my_list = ['apple', 'banana', 'cherry', 'date']\n",
    "result_dict = {}\n",
    "\n",
    "for index, value in enumerate(my_list):\n",
    "    result_dict[value] = index\n",
    "    \n",
    "print(\"Original List: \", my_list)\n",
    "print(\"Dictionary with element as keys and indices as values:\\n\", result_dict)"
   ]
  },
  {
   "cell_type": "markdown",
   "id": "1dc3663e",
   "metadata": {},
   "source": [
    "# Shuffle the elements of a list randomly."
   ]
  },
  {
   "cell_type": "code",
   "execution_count": 90,
   "id": "6ae4f8db",
   "metadata": {},
   "outputs": [
    {
     "name": "stdout",
     "output_type": "stream",
     "text": [
      "['date', 'apple', 'cherry', 'banana']\n"
     ]
    }
   ],
   "source": [
    "import random\n",
    "my_list = ['apple', 'banana', 'cherry', 'date']\n",
    "\n",
    "random.shuffle(my_list)\n",
    "print(my_list)"
   ]
  },
  {
   "cell_type": "markdown",
   "id": "0a9f2bd3",
   "metadata": {},
   "source": [
    "# Create a list of the first 10 factorial numbers."
   ]
  },
  {
   "cell_type": "code",
   "execution_count": 91,
   "id": "7b9c1e50",
   "metadata": {},
   "outputs": [
    {
     "name": "stdout",
     "output_type": "stream",
     "text": [
      "[1, 2, 6, 24, 120, 720, 5040, 40320, 362880, 3628800]\n"
     ]
    }
   ],
   "source": [
    "import math\n",
    "li = [1, 2, 3, 4, 5, 6, 7, 8, 9, 10]\n",
    "fact = [ math.factorial(num) for num in li]\n",
    "\n",
    "print(fact)"
   ]
  },
  {
   "cell_type": "markdown",
   "id": "8103d948",
   "metadata": {},
   "source": [
    "# Check if two lists have at least one element in common."
   ]
  },
  {
   "cell_type": "code",
   "execution_count": 92,
   "id": "4c3f9f3f",
   "metadata": {},
   "outputs": [
    {
     "name": "stdout",
     "output_type": "stream",
     "text": [
      "Yes, there is a common element.\n"
     ]
    }
   ],
   "source": [
    "list1 = ['apple', 'banana', 'cherry']\n",
    "list2 = ['Google', 'MSFT', 'apple']\n",
    "\n",
    "intersection = set(list1) & set(list2)\n",
    "\n",
    "if intersection:\n",
    "    print(\"Yes, there is a common element.\")\n",
    "else:\n",
    "    print('No, there is not a common element.')"
   ]
  },
  {
   "cell_type": "markdown",
   "id": "7cd3a155",
   "metadata": {},
   "source": [
    "# Remove all elements from a list."
   ]
  },
  {
   "cell_type": "code",
   "execution_count": 93,
   "id": "519b2cd9",
   "metadata": {},
   "outputs": [
    {
     "name": "stdout",
     "output_type": "stream",
     "text": [
      "[]\n"
     ]
    }
   ],
   "source": [
    "list_ = ['apple', 'banana', 'cherry']\n",
    "\n",
    "list_.clear()\n",
    "print(list_)"
   ]
  },
  {
   "cell_type": "markdown",
   "id": "def43df9",
   "metadata": {},
   "source": [
    "# Replace negative numbers in a list with 0."
   ]
  },
  {
   "cell_type": "code",
   "execution_count": 94,
   "id": "1dacfd66",
   "metadata": {},
   "outputs": [
    {
     "name": "stdout",
     "output_type": "stream",
     "text": [
      "[0, 2, 4, 0, 6, 7, 0, 30, 0, 4]\n"
     ]
    }
   ],
   "source": [
    "list0 = [ -1, 2, 4, -5, 6, 7, -8, 30, 0, 4] \n",
    "\n",
    "replaced_num =  [i if i >=0 else 0 for i in list0]\n",
    "print(replaced_num)"
   ]
  },
  {
   "cell_type": "markdown",
   "id": "e43b152e",
   "metadata": {},
   "source": [
    "# Convert a string into a list of words."
   ]
  },
  {
   "cell_type": "code",
   "execution_count": 95,
   "id": "178b0ad0",
   "metadata": {},
   "outputs": [
    {
     "name": "stdout",
     "output_type": "stream",
     "text": [
      "['Hello,', 'How', 'are', 'you?']\n"
     ]
    }
   ],
   "source": [
    "strings_ = 'Hello, How are you?'\n",
    "list_of_words = strings_.split()\n",
    "print(list_of_words)\n"
   ]
  },
  {
   "cell_type": "markdown",
   "id": "9159efbb",
   "metadata": {},
   "source": [
    "# Convert a list of words into a string."
   ]
  },
  {
   "cell_type": "code",
   "execution_count": 96,
   "id": "3d4ad6f6",
   "metadata": {},
   "outputs": [
    {
     "name": "stdout",
     "output_type": "stream",
     "text": [
      "Hello, how  are you ?\n"
     ]
    }
   ],
   "source": [
    "list_of_words = ['Hello,', \"how \", \"are\", \"you\", \"?\"]\n",
    "\n",
    "list_of_string = ' '.join(list_of_words)\n",
    "print(list_of_string)"
   ]
  },
  {
   "cell_type": "markdown",
   "id": "50191882",
   "metadata": {},
   "source": [
    "# Create a list of the first `n` powers of 2."
   ]
  },
  {
   "cell_type": "code",
   "execution_count": 97,
   "id": "edfbcea8",
   "metadata": {},
   "outputs": [
    {
     "name": "stdout",
     "output_type": "stream",
     "text": [
      "First 5 power of 2: [0, 1, 4, 9, 16]\n"
     ]
    }
   ],
   "source": [
    "n = 5\n",
    "\n",
    "power_of_2 = [i**2 for i in range(n)]\n",
    "print(f\"First {n} power of 2: {power_of_2}\")"
   ]
  },
  {
   "cell_type": "markdown",
   "id": "3de37ee4",
   "metadata": {},
   "source": [
    "# Find the longest string in a list of strings."
   ]
  },
  {
   "cell_type": "code",
   "execution_count": 99,
   "id": "75cbddc7",
   "metadata": {},
   "outputs": [
    {
     "name": "stdout",
     "output_type": "stream",
     "text": [
      "List of strings: ['apple', 'banana', 'cherry', 'date']\n",
      "Longest string in the list: banana\n"
     ]
    }
   ],
   "source": [
    "list_of_string = ['apple', 'banana', 'cherry', 'date']\n",
    "\n",
    "longest_string= max(list_of_string, key = len)\n",
    "\n",
    "print(\"List of strings:\",list_of_string)\n",
    "print(\"Longest string in the list:\",longest_string)"
   ]
  },
  {
   "cell_type": "markdown",
   "id": "377a8c87",
   "metadata": {},
   "source": [
    "# Find the shortest string in a list of strings."
   ]
  },
  {
   "cell_type": "code",
   "execution_count": 101,
   "id": "57b46537",
   "metadata": {},
   "outputs": [
    {
     "name": "stdout",
     "output_type": "stream",
     "text": [
      "List of strings: ['apple', 'banana', 'cherry', 'date']\n",
      "Shortest string in the list: date\n"
     ]
    }
   ],
   "source": [
    "list_of_string = ['apple', 'banana', 'cherry', 'date']\n",
    "\n",
    "shortest_string= min(list_of_string, key = len)\n",
    "\n",
    "print(\"List of strings:\",list_of_string)\n",
    "print(\"Shortest string in the list:\",shortest_string)"
   ]
  },
  {
   "cell_type": "markdown",
   "id": "9e0b61dc",
   "metadata": {},
   "source": [
    "# Create a list of the first `n` triangular numbers."
   ]
  },
  {
   "cell_type": "code",
   "execution_count": 102,
   "id": "5b6cf640",
   "metadata": {},
   "outputs": [
    {
     "name": "stdout",
     "output_type": "stream",
     "text": [
      "First 7 triangular numbers: [1, 3, 6, 10, 15, 21, 28]\n"
     ]
    }
   ],
   "source": [
    "n = 7\n",
    "\n",
    "triangular_numbers = []\n",
    "sum = 0\n",
    "\n",
    "for i in range(1, n+1):\n",
    "    sum += i\n",
    "    triangular_numbers.append(sum)\n",
    "    \n",
    "print('First', n, 'triangular numbers:', triangular_numbers)    "
   ]
  },
  {
   "cell_type": "markdown",
   "id": "7911d814",
   "metadata": {},
   "source": [
    "# Check if a list contains another list as a subsequence."
   ]
  },
  {
   "cell_type": "code",
   "execution_count": 103,
   "id": "252eb705",
   "metadata": {},
   "outputs": [
    {
     "name": "stdout",
     "output_type": "stream",
     "text": [
      "Yes, the subsequence is present in the larger list.\n"
     ]
    }
   ],
   "source": [
    "larger_list = [1,2,3,4,5,6,7,8]\n",
    "subsequence = [3,4,5]\n",
    "\n",
    "if all(item  in larger_list for item in subsequence):\n",
    "    print('Yes, the subsequence is present in the larger list.')\n",
    "else:\n",
    "    print('No, the subsequence is not present in the larger list.')"
   ]
  },
  {
   "cell_type": "markdown",
   "id": "21b5eb8f",
   "metadata": {},
   "source": [
    "# Swap two elements in a list by their indices."
   ]
  },
  {
   "cell_type": "code",
   "execution_count": 104,
   "id": "d831d436",
   "metadata": {},
   "outputs": [
    {
     "name": "stdout",
     "output_type": "stream",
     "text": [
      "List after swapping elements at indices 0 and 5 : [6, 2, 3, 4, 5, 1, 7, 8]\n"
     ]
    }
   ],
   "source": [
    "larger_list = [1,2,3,4,5,6,7,8]\n",
    "x, y = 0, 5\n",
    "larger_list[x], larger_list[y] = larger_list[y], larger_list[x]\n",
    "print(\"List after swapping elements at indices\", x, 'and', y, \":\", larger_list)"
   ]
  },
  {
   "cell_type": "markdown",
   "id": "73f236da",
   "metadata": {},
   "source": [
    "# Tuple Based Practice Problem :"
   ]
  },
  {
   "cell_type": "markdown",
   "id": "26df5c18",
   "metadata": {},
   "source": [
    "# Create a tuple with integers from 1 to 5."
   ]
  },
  {
   "cell_type": "code",
   "execution_count": 105,
   "id": "25631314",
   "metadata": {},
   "outputs": [
    {
     "name": "stdout",
     "output_type": "stream",
     "text": [
      "(1, 2, 3, 4, 5)\n"
     ]
    }
   ],
   "source": [
    "tupl = tuple(range(1,6))\n",
    "print(tupl)"
   ]
  },
  {
   "cell_type": "markdown",
   "id": "762a4b45",
   "metadata": {},
   "source": [
    "# Access the third element of a tuple."
   ]
  },
  {
   "cell_type": "code",
   "execution_count": 106,
   "id": "05cf660b",
   "metadata": {},
   "outputs": [
    {
     "data": {
      "text/plain": [
       "3"
      ]
     },
     "execution_count": 106,
     "metadata": {},
     "output_type": "execute_result"
    }
   ],
   "source": [
    "tupl[2]\n"
   ]
  },
  {
   "cell_type": "markdown",
   "id": "fcba40bd",
   "metadata": {},
   "source": [
    "# Find the length of a tuple without using the `len()` function."
   ]
  },
  {
   "cell_type": "code",
   "execution_count": 107,
   "id": "e5c5fc38",
   "metadata": {},
   "outputs": [
    {
     "name": "stdout",
     "output_type": "stream",
     "text": [
      "Length of the tuple is: 5\n"
     ]
    }
   ],
   "source": [
    "t = (1,2,3,4,5)\n",
    "length = 0\n",
    "\n",
    "for i in t:\n",
    "    length += 1\n",
    "    \n",
    "print('Length of the tuple is:', length)    "
   ]
  },
  {
   "cell_type": "markdown",
   "id": "0c239edc",
   "metadata": {},
   "source": [
    "# Count the occurrences of an element in a tuple."
   ]
  },
  {
   "cell_type": "code",
   "execution_count": 108,
   "id": "bd7f4988",
   "metadata": {},
   "outputs": [
    {
     "data": {
      "text/plain": [
       "1"
      ]
     },
     "execution_count": 108,
     "metadata": {},
     "output_type": "execute_result"
    }
   ],
   "source": [
    "t = (1,2,3,4,5)\n",
    "\n",
    "v = t.count(3)\n",
    "v"
   ]
  },
  {
   "cell_type": "markdown",
   "id": "e1faa462",
   "metadata": {},
   "source": [
    "# Find the index of the first occurrence of an element in a tuple."
   ]
  },
  {
   "cell_type": "code",
   "execution_count": 109,
   "id": "4ae70686",
   "metadata": {},
   "outputs": [
    {
     "data": {
      "text/plain": [
       "0"
      ]
     },
     "execution_count": 109,
     "metadata": {},
     "output_type": "execute_result"
    }
   ],
   "source": [
    "tup = ('apple', \"banana\", 'cherry', 'date', 'apple')\n",
    "\n",
    "p = tup.index('apple')\n",
    "p"
   ]
  },
  {
   "cell_type": "markdown",
   "id": "072a92e3",
   "metadata": {},
   "source": [
    "# Check if an element exists in a tuple."
   ]
  },
  {
   "cell_type": "code",
   "execution_count": 110,
   "id": "834f725c",
   "metadata": {},
   "outputs": [
    {
     "name": "stdout",
     "output_type": "stream",
     "text": [
      "Yes, apple exists.\n"
     ]
    }
   ],
   "source": [
    "tup = ('apple', \"banana\", 'cherry', 'date')\n",
    "\n",
    "if 'apple' in tup:\n",
    "    print('Yes, apple exists.')\n",
    "else:\n",
    "    print('Yes, apple does not exist.')"
   ]
  },
  {
   "cell_type": "markdown",
   "id": "12afa445",
   "metadata": {},
   "source": [
    "# Convert a tuple to a list."
   ]
  },
  {
   "cell_type": "code",
   "execution_count": 111,
   "id": "377f84b3",
   "metadata": {},
   "outputs": [
    {
     "data": {
      "text/plain": [
       "['apple', 'banana', 'cherry', 'date']"
      ]
     },
     "execution_count": 111,
     "metadata": {},
     "output_type": "execute_result"
    }
   ],
   "source": [
    "tup = ('apple', \"banana\", 'cherry', 'date')\n",
    "li = list(tup)\n",
    "li"
   ]
  },
  {
   "cell_type": "markdown",
   "id": "fdedcae1",
   "metadata": {},
   "source": [
    "# Convert a list to a tuple."
   ]
  },
  {
   "cell_type": "code",
   "execution_count": 112,
   "id": "54f16f6a",
   "metadata": {},
   "outputs": [
    {
     "data": {
      "text/plain": [
       "('apple', 'banana', 'cherry', 'date')"
      ]
     },
     "execution_count": 112,
     "metadata": {},
     "output_type": "execute_result"
    }
   ],
   "source": [
    "li = ['apple', \"banana\", 'cherry', 'date']\n",
    "tup = tuple(li)\n",
    "tup"
   ]
  },
  {
   "cell_type": "markdown",
   "id": "159412da",
   "metadata": {},
   "source": [
    "# Unpack the elements of a tuple into variables."
   ]
  },
  {
   "cell_type": "code",
   "execution_count": 113,
   "id": "8cc5ea84",
   "metadata": {},
   "outputs": [
    {
     "name": "stdout",
     "output_type": "stream",
     "text": [
      "apple\n",
      "banana\n",
      "cherry\n"
     ]
    }
   ],
   "source": [
    "tup = ('apple', \"banana\", 'cherry')\n",
    "\n",
    "x,y,z = tup\n",
    "\n",
    "print(x)\n",
    "print(y)\n",
    "print(z)"
   ]
  },
  {
   "cell_type": "markdown",
   "id": "c32e1c36",
   "metadata": {},
   "source": [
    "# Create a tuple of even numbers from 1 to 10."
   ]
  },
  {
   "cell_type": "code",
   "execution_count": 114,
   "id": "0fdac793",
   "metadata": {},
   "outputs": [
    {
     "name": "stdout",
     "output_type": "stream",
     "text": [
      "(2, 4, 6, 8, 10)\n"
     ]
    }
   ],
   "source": [
    "tup = (1,2,3,4,5,6,7,8,9,10)\n",
    "li = list(tup)\n",
    "lis = []\n",
    "for i in li:\n",
    "    if i % 2 == 0:\n",
    "        lis.append(i)\n",
    "tups = tuple(lis)\n",
    "print(tups)"
   ]
  },
  {
   "cell_type": "markdown",
   "id": "2bd0fd9e",
   "metadata": {},
   "source": [
    "# Create a tuple of odd numbers from 1 to 10."
   ]
  },
  {
   "cell_type": "code",
   "execution_count": 115,
   "id": "c860a5aa",
   "metadata": {},
   "outputs": [
    {
     "name": "stdout",
     "output_type": "stream",
     "text": [
      "(1, 3, 5, 7, 9)\n"
     ]
    }
   ],
   "source": [
    "tup = (1,2,3,4,5,6,7,8,9,10)\n",
    "li = list(tup)\n",
    "lis = []\n",
    "for i in li:\n",
    "    if i % 2 == 1:\n",
    "        lis.append(i)\n",
    "tups = tuple(lis)\n",
    "print(tups)"
   ]
  },
  {
   "cell_type": "markdown",
   "id": "bbdd22b6",
   "metadata": {},
   "source": [
    "# Concatenate two tuples."
   ]
  },
  {
   "cell_type": "code",
   "execution_count": 116,
   "id": "b79f8e68",
   "metadata": {},
   "outputs": [
    {
     "name": "stdout",
     "output_type": "stream",
     "text": [
      "(1, 2, 3, 4, 5, 6, 7, 8, 9, 10)\n"
     ]
    }
   ],
   "source": [
    "tup1 = (1,2,3,4,5)\n",
    "tup2 = (6,7,8,9,10)\n",
    "\n",
    "tup3 = tup1 + tup2\n",
    "print(tup3)"
   ]
  },
  {
   "cell_type": "markdown",
   "id": "873fff24",
   "metadata": {},
   "source": [
    "# Repeat a tuple three times."
   ]
  },
  {
   "cell_type": "code",
   "execution_count": 117,
   "id": "1a45ec17",
   "metadata": {},
   "outputs": [
    {
     "name": "stdout",
     "output_type": "stream",
     "text": [
      "(1, 2, 3, 1, 2, 3, 1, 2, 3)\n"
     ]
    }
   ],
   "source": [
    "tup = (1,2,3)\n",
    "\n",
    "repeated_tups = tup*3\n",
    "print(repeated_tups)"
   ]
  },
  {
   "cell_type": "markdown",
   "id": "c6ac4218",
   "metadata": {},
   "source": [
    "# Check if a tuple is empty."
   ]
  },
  {
   "cell_type": "code",
   "execution_count": 118,
   "id": "a4657a1f",
   "metadata": {},
   "outputs": [
    {
     "name": "stdout",
     "output_type": "stream",
     "text": [
      "Tuple is not empty!\n"
     ]
    }
   ],
   "source": [
    " tup = (1,2,4,5,7,8,0)\n",
    "\n",
    "if not tup:\n",
    "    print('Tuple is empty!')\n",
    "else:\n",
    "    print('Tuple is not empty!')"
   ]
  },
  {
   "cell_type": "markdown",
   "id": "6aa4069d",
   "metadata": {},
   "source": [
    "# Create a nested tuple."
   ]
  },
  {
   "cell_type": "code",
   "execution_count": 119,
   "id": "5f63dae1",
   "metadata": {},
   "outputs": [
    {
     "name": "stdout",
     "output_type": "stream",
     "text": [
      "((1, 2, 3, 4), (5, 6, 7, 8), (9, 10, 11, 12))\n"
     ]
    }
   ],
   "source": [
    "nested_tuple = ()\n",
    "num_elements = 4\n",
    "\n",
    "for i in range(1, 10, num_elements):\n",
    "    inner_tuple = tuple(range(i, i + num_elements))\n",
    "    nested_tuple += (inner_tuple,)\n",
    "\n",
    "print(nested_tuple)    "
   ]
  },
  {
   "cell_type": "markdown",
   "id": "b7aca6e6",
   "metadata": {},
   "source": [
    "# Access the first element of a nested tuple."
   ]
  },
  {
   "cell_type": "code",
   "execution_count": 120,
   "id": "512f1287",
   "metadata": {},
   "outputs": [
    {
     "data": {
      "text/plain": [
       "((1, 2, 3, 4), (5, 6, 7, 8), (9, 10, 11, 12))"
      ]
     },
     "execution_count": 120,
     "metadata": {},
     "output_type": "execute_result"
    }
   ],
   "source": [
    "nested_tuple"
   ]
  },
  {
   "cell_type": "code",
   "execution_count": 121,
   "id": "03e0a854",
   "metadata": {},
   "outputs": [
    {
     "data": {
      "text/plain": [
       "1"
      ]
     },
     "execution_count": 121,
     "metadata": {},
     "output_type": "execute_result"
    }
   ],
   "source": [
    "nested_tuple[0][0]"
   ]
  },
  {
   "cell_type": "markdown",
   "id": "403fa501",
   "metadata": {},
   "source": [
    "# Create a tuple with a single element."
   ]
  },
  {
   "cell_type": "code",
   "execution_count": 122,
   "id": "3ac592ae",
   "metadata": {},
   "outputs": [
    {
     "name": "stdout",
     "output_type": "stream",
     "text": [
      "('apple',)\n",
      "<class 'tuple'>\n"
     ]
    }
   ],
   "source": [
    "tup = ('apple',)\n",
    "print(tup)\n",
    "print(type(tup))"
   ]
  },
  {
   "cell_type": "markdown",
   "id": "3db7faba",
   "metadata": {},
   "source": [
    "# Compare two tuples."
   ]
  },
  {
   "cell_type": "code",
   "execution_count": 123,
   "id": "db90d622",
   "metadata": {},
   "outputs": [
    {
     "name": "stdout",
     "output_type": "stream",
     "text": [
      "tuple1 == tuple2: False\n",
      "tuple1 != tuple2: True\n",
      "tuple1 < tuple2: True\n",
      "tuple1 > tuple2: False\n",
      "tuple1 <= tuple2: True\n",
      "tuple1 >= tuple2: False\n"
     ]
    }
   ],
   "source": [
    "tuple1 = (1,2,3)\n",
    "tuple2 = (1,2,4)\n",
    "\n",
    "\n",
    "print(\"tuple1 == tuple2:\", tuple1 == tuple2)\n",
    "print(\"tuple1 != tuple2:\", tuple1 != tuple2)\n",
    "print(\"tuple1 < tuple2:\", tuple1 < tuple2)\n",
    "print(\"tuple1 > tuple2:\", tuple1 > tuple2)\n",
    "print(\"tuple1 <= tuple2:\", tuple1 <= tuple2)\n",
    "print(\"tuple1 >= tuple2:\", tuple1 >= tuple2)"
   ]
  },
  {
   "cell_type": "markdown",
   "id": "a5511733",
   "metadata": {},
   "source": [
    "# Delete a tuple."
   ]
  },
  {
   "cell_type": "code",
   "execution_count": 124,
   "id": "04bd3b9c",
   "metadata": {},
   "outputs": [],
   "source": [
    "tuple_t = (1,2,3)\n",
    "del tuple_t"
   ]
  },
  {
   "cell_type": "code",
   "execution_count": null,
   "id": "0749d09b",
   "metadata": {},
   "outputs": [],
   "source": [
    "tuple_t"
   ]
  },
  {
   "cell_type": "markdown",
   "id": "fc07a6db",
   "metadata": {},
   "source": [
    "# Slice a tuple."
   ]
  },
  {
   "cell_type": "code",
   "execution_count": 125,
   "id": "3289b345",
   "metadata": {},
   "outputs": [
    {
     "data": {
      "text/plain": [
       "(4, 5, 7)"
      ]
     },
     "execution_count": 125,
     "metadata": {},
     "output_type": "execute_result"
    }
   ],
   "source": [
    "tup = (1,2,4,5,7,8,0)\n",
    "tup = tup[2:5]\n",
    "tup"
   ]
  },
  {
   "cell_type": "markdown",
   "id": "8e2c420e",
   "metadata": {},
   "source": [
    "# Find the maximum value in a tuple."
   ]
  },
  {
   "cell_type": "code",
   "execution_count": 126,
   "id": "9c0c57f7",
   "metadata": {},
   "outputs": [
    {
     "data": {
      "text/plain": [
       "8"
      ]
     },
     "execution_count": 126,
     "metadata": {},
     "output_type": "execute_result"
    }
   ],
   "source": [
    "tup = (1,2,4,5,7,8,0)\n",
    "\n",
    "max_value = max(tup)\n",
    "max_value\n"
   ]
  },
  {
   "cell_type": "markdown",
   "id": "73637d12",
   "metadata": {},
   "source": [
    "# Find the minimum value in a tuple."
   ]
  },
  {
   "cell_type": "code",
   "execution_count": 127,
   "id": "c955cfe4",
   "metadata": {},
   "outputs": [
    {
     "data": {
      "text/plain": [
       "0"
      ]
     },
     "execution_count": 127,
     "metadata": {},
     "output_type": "execute_result"
    }
   ],
   "source": [
    "tup = (1,2,4,5,7,8,0)\n",
    "\n",
    "min_value = min(tup)\n",
    "min_value\n"
   ]
  },
  {
   "cell_type": "markdown",
   "id": "5ef6b97e",
   "metadata": {},
   "source": [
    "# Convert a string to a tuple of characters."
   ]
  },
  {
   "cell_type": "code",
   "execution_count": 128,
   "id": "a3518b36",
   "metadata": {},
   "outputs": [
    {
     "name": "stdout",
     "output_type": "stream",
     "text": [
      "('h', 'e', 'l', 'l', 'o', ',', ' ', 'h', 'o', 'w', ' ', 'a', 'r', 'e', ' ', 'y', 'o', 'u', '?')\n"
     ]
    }
   ],
   "source": [
    "string = 'hello, how are you?'\n",
    "tups = tuple(string)\n",
    "print(tups)"
   ]
  },
  {
   "cell_type": "markdown",
   "id": "2b22c44f",
   "metadata": {},
   "source": [
    "# Convert a tuple of characters to a string."
   ]
  },
  {
   "cell_type": "code",
   "execution_count": 129,
   "id": "ed3d6ccb",
   "metadata": {},
   "outputs": [
    {
     "name": "stdout",
     "output_type": "stream",
     "text": [
      "hello, how are you?\n"
     ]
    }
   ],
   "source": [
    "tups = ('h', 'e', 'l', 'l', 'o', ',', ' ', 'h', 'o', 'w', ' ', 'a', 'r', 'e', ' ', 'y', 'o', 'u', '?')\n",
    "strings = ''.join(tups)\n",
    "print(strings)"
   ]
  },
  {
   "cell_type": "markdown",
   "id": "6296368c",
   "metadata": {},
   "source": [
    "# Create a tuple from multiple data types."
   ]
  },
  {
   "cell_type": "code",
   "execution_count": 130,
   "id": "e77617ff",
   "metadata": {},
   "outputs": [
    {
     "name": "stdout",
     "output_type": "stream",
     "text": [
      "(1, 2, 3, 'apple', True)\n"
     ]
    }
   ],
   "source": [
    "tups = (1,2,3, 'apple', True)\n",
    "print(tups)"
   ]
  },
  {
   "cell_type": "markdown",
   "id": "3fa181f4",
   "metadata": {},
   "source": [
    "# Check if two tuples are identical."
   ]
  },
  {
   "cell_type": "code",
   "execution_count": 131,
   "id": "877b66da",
   "metadata": {},
   "outputs": [
    {
     "name": "stdout",
     "output_type": "stream",
     "text": [
      "The tuples are identical.\n"
     ]
    }
   ],
   "source": [
    "tuple1 = (1,2,3)\n",
    "tuple2 = (1,2,3)\n",
    "\n",
    "if tuple1 == tuple2:\n",
    "    print(\"The tuples are identical.\")\n",
    "else:\n",
    "    print(\"The tuples are not identical.\")"
   ]
  },
  {
   "cell_type": "markdown",
   "id": "5e508322",
   "metadata": {},
   "source": [
    "# Sort the elements of a tuple."
   ]
  },
  {
   "cell_type": "code",
   "execution_count": 132,
   "id": "50576330",
   "metadata": {},
   "outputs": [
    {
     "data": {
      "text/plain": [
       "(2, 3, 4, 4, 6, 6, 8, 9, 12, 45)"
      ]
     },
     "execution_count": 132,
     "metadata": {},
     "output_type": "execute_result"
    }
   ],
   "source": [
    "tups = (3,6,2,6,4,4,8,9,12,45)\n",
    "\n",
    "li = list(tups)\n",
    "li.sort()\n",
    "li\n",
    "tups = tuple(li)\n",
    "tups"
   ]
  },
  {
   "cell_type": "markdown",
   "id": "8de149d3",
   "metadata": {},
   "source": [
    "# Convert a tuple of integers to a tuple of strings."
   ]
  },
  {
   "cell_type": "code",
   "execution_count": 133,
   "id": "aa45e525",
   "metadata": {},
   "outputs": [
    {
     "name": "stdout",
     "output_type": "stream",
     "text": [
      "Tuple of integer: (1, 2, 3, 4, 5, 6, 7, 8)\n",
      "Tuple of string: ('1', '2', '3', '4', '5', '6', '7', '8')\n"
     ]
    }
   ],
   "source": [
    "tup_of_int = (1,2,3,4,5,6,7,8)\n",
    "\n",
    "tup_of_str = tuple(str(item) for item in tup_of_int )\n",
    "\n",
    "\n",
    "print(\"Tuple of integer:\", tup_of_int)\n",
    "print(\"Tuple of string:\", tup_of_str)"
   ]
  },
  {
   "cell_type": "markdown",
   "id": "3e2b1d28",
   "metadata": {},
   "source": [
    "# Convert a tuple of strings to a tuple of integers."
   ]
  },
  {
   "cell_type": "code",
   "execution_count": 134,
   "id": "7180400a",
   "metadata": {},
   "outputs": [
    {
     "name": "stdout",
     "output_type": "stream",
     "text": [
      "Tuple of string: ('1', '2', '3', '4', '5', '6', '7', '8')\n",
      "Tuple of integer: (1, 2, 3, 4, 5, 6, 7, 8)\n"
     ]
    }
   ],
   "source": [
    "tup_of_str = ('1','2','3','4','5','6','7','8')\n",
    "\n",
    "tup_of_int = tuple(int(item) for item in tup_of_str )\n",
    "print(\"Tuple of string:\", tup_of_str)\n",
    "print(\"Tuple of integer:\", tup_of_int)"
   ]
  },
  {
   "cell_type": "markdown",
   "id": "0ea52c6a",
   "metadata": {},
   "source": [
    "# Merge two tuples."
   ]
  },
  {
   "cell_type": "code",
   "execution_count": 135,
   "id": "3e1d9c77",
   "metadata": {},
   "outputs": [
    {
     "name": "stdout",
     "output_type": "stream",
     "text": [
      "Merged Tuples: (1, 2, 3, 4, 5, 6, 6, 7, 8, 9, 0)\n"
     ]
    }
   ],
   "source": [
    "tup1 = (1,2,3,4,5)\n",
    "tup2 = (6,6,7,8,9,0)\n",
    "\n",
    "tup3 = tup1 + tup2\n",
    "print(\"Merged Tuples:\", tup3)"
   ]
  },
  {
   "cell_type": "markdown",
   "id": "4177c824",
   "metadata": {},
   "source": [
    "# Flatten a nested tuple."
   ]
  },
  {
   "cell_type": "code",
   "execution_count": 136,
   "id": "ee4e1de4",
   "metadata": {},
   "outputs": [
    {
     "name": "stdout",
     "output_type": "stream",
     "text": [
      "Original Tuple: ((1, 2), (3, 4, 5), (6, (7, 8)))\n",
      "Flattened Tuple: (1, 2, 3, 4, 5, 6, 7, 8)\n"
     ]
    }
   ],
   "source": [
    "tup = ((1, 2), (3, 4, 5), (6, (7, 8)))\n",
    "\n",
    "def flatten_tuple(t):\n",
    "    flat_list = []\n",
    "    for item in t:\n",
    "        if isinstance(item, tuple):\n",
    "            flat_list.extend(flatten_tuple(item))\n",
    "            \n",
    "        else:\n",
    "            flat_list.append(item)\n",
    "    return flat_list  \n",
    "\n",
    "flattened_tuple = tuple(flatten_tuple(tup))\n",
    "\n",
    "print(\"Original Tuple:\", tup)\n",
    "print(\"Flattened Tuple:\", flattened_tuple)\n"
   ]
  },
  {
   "cell_type": "markdown",
   "id": "4f785114",
   "metadata": {},
   "source": [
    "# Create a tuple of the first 5 prime numbers."
   ]
  },
  {
   "cell_type": "code",
   "execution_count": 137,
   "id": "7c5983b1",
   "metadata": {},
   "outputs": [
    {
     "name": "stdout",
     "output_type": "stream",
     "text": [
      "Tuple of the first 5 prime numbers: (2, 3, 5, 7, 11)\n"
     ]
    }
   ],
   "source": [
    "count = 0\n",
    "number = 2\n",
    "prime_list = []\n",
    "\n",
    "while count < 5:\n",
    "    is_prime = True\n",
    "    for i in range(2, (int(number**0.5)+1)):\n",
    "        if number % i == 0:\n",
    "            is_prime = False\n",
    "            break\n",
    "            \n",
    "    if is_prime:\n",
    "        prime_list.append(number)\n",
    "        count += 1\n",
    "    number += 1\n",
    "    \n",
    "prime_tuple = tuple(prime_list)\n",
    "print(\"Tuple of the first 5 prime numbers:\", prime_tuple)"
   ]
  },
  {
   "cell_type": "markdown",
   "id": "cbdf1071",
   "metadata": {},
   "source": [
    "# Check if a tuple is a palindrome."
   ]
  },
  {
   "cell_type": "code",
   "execution_count": 138,
   "id": "1161273d",
   "metadata": {},
   "outputs": [
    {
     "name": "stdout",
     "output_type": "stream",
     "text": [
      "This tuple is not a palindrome.\n"
     ]
    }
   ],
   "source": [
    "tups = ('level',)\n",
    "# tups = (1,2,3,2,1)\n",
    "\n",
    "if check_palindrome == tups[::-1]:\n",
    "    print(f'This tuple is palindrome.')\n",
    "else:\n",
    "    print(f'This tuple is not a palindrome.')"
   ]
  },
  {
   "cell_type": "markdown",
   "id": "437df8c8",
   "metadata": {},
   "source": [
    "# Create a tuple of squares of numbers from 1 to 5."
   ]
  },
  {
   "cell_type": "code",
   "execution_count": 139,
   "id": "f97d9ec8",
   "metadata": {},
   "outputs": [
    {
     "name": "stdout",
     "output_type": "stream",
     "text": [
      "Tuple of squares of numbers from 1 to 5: (1, 4, 9, 16, 25)\n"
     ]
    }
   ],
   "source": [
    "squared_tuple= tuple(x**2 for x in range(1, 6))\n",
    "print(\"Tuple of squares of numbers from 1 to 5:\", squared_tuple)"
   ]
  },
  {
   "cell_type": "markdown",
   "id": "9b90c13a",
   "metadata": {},
   "source": [
    "# Filter out all even numbers from a tuple."
   ]
  },
  {
   "cell_type": "code",
   "execution_count": 140,
   "id": "e18ea05e",
   "metadata": {},
   "outputs": [
    {
     "name": "stdout",
     "output_type": "stream",
     "text": [
      "Filtered Tuple: (2, 4, 6, 8, 10)\n"
     ]
    }
   ],
   "source": [
    "tups = range(1,11)\n",
    "\n",
    "filtered_tuple = tuple(x for x in tups if x % 2 == 0)\n",
    "print('Filtered Tuple:', filtered_tuple)\n"
   ]
  },
  {
   "cell_type": "markdown",
   "id": "fa0ff56f",
   "metadata": {},
   "source": [
    "# Multiply all elements in a tuple by 2."
   ]
  },
  {
   "cell_type": "code",
   "execution_count": 141,
   "id": "68ce189f",
   "metadata": {},
   "outputs": [
    {
     "name": "stdout",
     "output_type": "stream",
     "text": [
      "(2, 4, 6, 8, 10, 12, 14, 16, 18, 20)\n"
     ]
    }
   ],
   "source": [
    "tups = range(1,11)\n",
    "\n",
    "multiples = tuple(x*2  for x in tups )\n",
    "print(multiples)"
   ]
  },
  {
   "cell_type": "markdown",
   "id": "d891b1db",
   "metadata": {},
   "source": [
    "# Create a tuple of random numbers."
   ]
  },
  {
   "cell_type": "code",
   "execution_count": 142,
   "id": "3ff6f04c",
   "metadata": {},
   "outputs": [
    {
     "name": "stdout",
     "output_type": "stream",
     "text": [
      "(2, 0, 3, 4, 1)\n"
     ]
    }
   ],
   "source": [
    "import random\n",
    "\n",
    "values = list(range(5))\n",
    "random.shuffle(values)\n",
    "tups = tuple(values)\n",
    "print(tups)"
   ]
  },
  {
   "cell_type": "markdown",
   "id": "7a60e7d5",
   "metadata": {},
   "source": [
    "# Check if a tuple is sorted."
   ]
  },
  {
   "cell_type": "code",
   "execution_count": 143,
   "id": "14b539e7",
   "metadata": {},
   "outputs": [
    {
     "name": "stdout",
     "output_type": "stream",
     "text": [
      "THe tuple is unsorted.\n"
     ]
    }
   ],
   "source": [
    "tups = (15,3,5,7,8)\n",
    "sorted_tuple = sorted(tups)\n",
    "\n",
    "if sorted_tuple == tups:\n",
    "    print(\"THe tuple is sorted.\")\n",
    "else:\n",
    "    print(\"THe tuple is unsorted.\")"
   ]
  },
  {
   "cell_type": "markdown",
   "id": "d80a2788",
   "metadata": {},
   "source": [
    "# Rotate a tuple to the left by `n` positions."
   ]
  },
  {
   "cell_type": "code",
   "execution_count": 144,
   "id": "af259c31",
   "metadata": {},
   "outputs": [
    {
     "name": "stdout",
     "output_type": "stream",
     "text": [
      "Original Tuple: (4, 5, 6, 7, 1, 2, 3)\n"
     ]
    }
   ],
   "source": [
    "tups = (1,2,3,4,5,6,7)\n",
    "n = 3\n",
    "\n",
    "for _ in range(n):\n",
    "    first_element = tups[0]\n",
    "    tups = tups[1:] + (first_element,)\n",
    "\n",
    "print('Original Tuple:', tups)    "
   ]
  },
  {
   "cell_type": "markdown",
   "id": "906e54b0",
   "metadata": {},
   "source": [
    "# Rotate a tuple to the right by `n` positions."
   ]
  },
  {
   "cell_type": "code",
   "execution_count": 145,
   "id": "5f242c1b",
   "metadata": {},
   "outputs": [
    {
     "name": "stdout",
     "output_type": "stream",
     "text": [
      "Original Tuple: (5, 6, 7, 1, 2, 3, 4)\n"
     ]
    }
   ],
   "source": [
    "tups = (1,2,3,4,5,6,7)\n",
    "lis = list(tups)\n",
    "n = 3\n",
    "\n",
    "for _ in range(n):\n",
    "    last_element = lis.pop()\n",
    "    lis = [last_element] + lis\n",
    "    \n",
    "print(\"Original Tuple:\", tuple(lis))    "
   ]
  },
  {
   "cell_type": "markdown",
   "id": "0b2cd7c8",
   "metadata": {},
   "source": [
    "# Create a tuple of the first 5 Fibonacci numbers."
   ]
  },
  {
   "cell_type": "code",
   "execution_count": 171,
   "id": "ffa1bdf5",
   "metadata": {},
   "outputs": [
    {
     "name": "stdout",
     "output_type": "stream",
     "text": [
      "[0, 1, 1, 2, 3]\n"
     ]
    }
   ],
   "source": []
  },
  {
   "cell_type": "code",
   "execution_count": 146,
   "id": "92b2ffc2",
   "metadata": {},
   "outputs": [
    {
     "name": "stdout",
     "output_type": "stream",
     "text": [
      "Fibonacci Numbers: (0, 1, 1, 2, 3)\n"
     ]
    }
   ],
   "source": [
    "fibonacci_num = [0,1]\n",
    "\n",
    "for i in range(2,5):\n",
    "    num = fibonacci_num[i-1] + fibonacci_num[i-2]\n",
    "    fibonacci_num.append(num)\n",
    "    \n",
    "print(\"Fibonacci Numbers:\", tuple(fibonacci_num))    "
   ]
  },
  {
   "cell_type": "markdown",
   "id": "476367a3",
   "metadata": {},
   "source": [
    "# Create a tuple from user input."
   ]
  },
  {
   "cell_type": "code",
   "execution_count": 147,
   "id": "48464fe8",
   "metadata": {},
   "outputs": [
    {
     "name": "stdout",
     "output_type": "stream",
     "text": [
      "enter the values for tuple: varsha dewangan sem 4\n",
      "('varsha', 'dewangan', 'sem', '4')\n"
     ]
    }
   ],
   "source": [
    "user_input = input('enter the values for tuple: ')\n",
    "\n",
    "\n",
    "user_tuple = tuple(user_input.split())\n",
    "\n",
    "\n",
    "print(user_tuple)"
   ]
  },
  {
   "cell_type": "markdown",
   "id": "2b9e0770",
   "metadata": {},
   "source": [
    "# Swap two elements in a tuple."
   ]
  },
  {
   "cell_type": "code",
   "execution_count": 148,
   "id": "9efe8f9a",
   "metadata": {},
   "outputs": [
    {
     "name": "stdout",
     "output_type": "stream",
     "text": [
      "('cherry', 'banana', 'apple', 'date')\n"
     ]
    }
   ],
   "source": [
    "tups = ('apple', 'banana', 'cherry', 'date')\n",
    "\n",
    "# Convert the tuple to a list\n",
    "tups_list = list(tups)\n",
    "\n",
    "# Swap elements at indices 0 and 2 in the list\n",
    "tups_list[0], tups_list[2] = tups_list[2], tups_list[0]\n",
    "\n",
    "# Convert the modified list back to a tuple\n",
    "modified_tuple = tuple(tups_list)\n",
    "\n",
    "print(modified_tuple)\n"
   ]
  },
  {
   "cell_type": "markdown",
   "id": "f42e0630",
   "metadata": {},
   "source": [
    "# Reverse the elements of a tuple."
   ]
  },
  {
   "cell_type": "code",
   "execution_count": 149,
   "id": "52894fdb",
   "metadata": {},
   "outputs": [
    {
     "name": "stdout",
     "output_type": "stream",
     "text": [
      "('date', 'cherry', 'banana', 'apple')\n"
     ]
    }
   ],
   "source": [
    "tups = ('apple', 'banana', 'cherry', 'date')\n",
    "\n",
    "reversed_elements = tups[::-1]\n",
    "print(reversed_elements)"
   ]
  },
  {
   "cell_type": "markdown",
   "id": "4850e661",
   "metadata": {},
   "source": [
    "# Create a tuple of the first `n` powers of 2."
   ]
  },
  {
   "cell_type": "code",
   "execution_count": 150,
   "id": "5e3ef045",
   "metadata": {},
   "outputs": [
    {
     "name": "stdout",
     "output_type": "stream",
     "text": [
      "Power Of 2: (1, 2, 4, 8, 16)\n"
     ]
    }
   ],
   "source": [
    "n = 5\n",
    "\n",
    "power_of_2 = tuple(2**i for i in range(n))\n",
    "print(\"Power Of 2:\", power_of_2)\n",
    "\n"
   ]
  },
  {
   "cell_type": "markdown",
   "id": "7b386556",
   "metadata": {},
   "source": [
    "# Find the longest string in a tuple of strings."
   ]
  },
  {
   "cell_type": "code",
   "execution_count": 151,
   "id": "e7296ab8",
   "metadata": {},
   "outputs": [
    {
     "name": "stdout",
     "output_type": "stream",
     "text": [
      "The longest string is: banana of length 6\n"
     ]
    }
   ],
   "source": [
    "tups = ('apple', 'banana', 'cherry', 'date')\n",
    "\n",
    "longest_string = max(tups, key = len)\n",
    "print('The longest string is:',longest_string, 'of length', len(longest_string))"
   ]
  },
  {
   "cell_type": "markdown",
   "id": "9969f7f0",
   "metadata": {},
   "source": [
    "# Find the shortest string in a tuple of strings."
   ]
  },
  {
   "cell_type": "code",
   "execution_count": 152,
   "id": "6d753b5d",
   "metadata": {},
   "outputs": [
    {
     "name": "stdout",
     "output_type": "stream",
     "text": [
      "The shortest string is: date of length: 4\n"
     ]
    }
   ],
   "source": [
    "tups = ('apple', 'banana', 'cherry', 'date')\n",
    "\n",
    "shortest_string = min(tups, key = len)\n",
    "print('The shortest string is:',shortest_string, 'of length:', len(shortest_string))"
   ]
  },
  {
   "cell_type": "markdown",
   "id": "1d38c5d6",
   "metadata": {},
   "source": [
    "# Create a tuple of the first `n` triangular numbers."
   ]
  },
  {
   "cell_type": "code",
   "execution_count": 153,
   "id": "6bceaf38",
   "metadata": {},
   "outputs": [
    {
     "name": "stdout",
     "output_type": "stream",
     "text": [
      "First 7 Triangular number: (1, 3, 6, 10, 15, 21, 28)\n"
     ]
    }
   ],
   "source": [
    "n = 7\n",
    "triangular_number = []\n",
    "sum = 0\n",
    "\n",
    "for i in range(1, n+1):\n",
    "    sum += i\n",
    "    triangular_number.append(sum)\n",
    "    \n",
    "print('First', n, 'Triangular number:', tuple(triangular_number))    "
   ]
  },
  {
   "cell_type": "markdown",
   "id": "8222317d",
   "metadata": {},
   "source": [
    "# Check if a tuple contains another tuple as a subsequence."
   ]
  },
  {
   "cell_type": "code",
   "execution_count": 154,
   "id": "3cc88e0c",
   "metadata": {},
   "outputs": [
    {
     "name": "stdout",
     "output_type": "stream",
     "text": [
      "yes\n"
     ]
    }
   ],
   "source": [
    "tups = (1,2,3,4,5,6,7,8)\n",
    "subsequence = (3,4,5)\n",
    "\n",
    "if all(item in tups for item in subsequence):\n",
    "    print(\"yes\")\n",
    "else:\n",
    "    print(\"no\")"
   ]
  },
  {
   "cell_type": "markdown",
   "id": "942fdd7c",
   "metadata": {},
   "source": [
    "# Create a tuple of alternating 1s and 0s of length `n`."
   ]
  },
  {
   "cell_type": "code",
   "execution_count": 155,
   "id": "4bdd3c17",
   "metadata": {},
   "outputs": [
    {
     "name": "stdout",
     "output_type": "stream",
     "text": [
      "Alternating Tuple (1, 0, 1, 0, 1, 0, 1, 0)\n"
     ]
    }
   ],
   "source": [
    "n= 8\n",
    "\n",
    "alternating_tups = tuple(1 if i%2 == 0 else 0 for i in range(n))\n",
    "print(\"Alternating Tuple\", alternating_tups)"
   ]
  },
  {
   "cell_type": "markdown",
   "id": "ae6f2572",
   "metadata": {},
   "source": [
    "# Set Based Practice Problem :"
   ]
  },
  {
   "cell_type": "markdown",
   "id": "277446da",
   "metadata": {},
   "source": [
    "# Create a set with integers from 1 to 5."
   ]
  },
  {
   "cell_type": "code",
   "execution_count": 156,
   "id": "fe9fd24e",
   "metadata": {},
   "outputs": [
    {
     "name": "stdout",
     "output_type": "stream",
     "text": [
      "{1, 2, 3, 4, 5}\n"
     ]
    }
   ],
   "source": [
    "sets = set(range(1,6))\n",
    "print(sets)"
   ]
  },
  {
   "cell_type": "markdown",
   "id": "0b72701b",
   "metadata": {},
   "source": [
    "# Add an element to a set."
   ]
  },
  {
   "cell_type": "code",
   "execution_count": 157,
   "id": "18ea5cb9",
   "metadata": {},
   "outputs": [
    {
     "data": {
      "text/plain": [
       "{1, 2, 3, 4, 5, 6}"
      ]
     },
     "execution_count": 157,
     "metadata": {},
     "output_type": "execute_result"
    }
   ],
   "source": [
    "set1 = {1,2,3,4,5}\n",
    "\n",
    "set1.add(6)\n",
    "set1"
   ]
  },
  {
   "cell_type": "markdown",
   "id": "0dbf6e27",
   "metadata": {},
   "source": [
    "# Remove an element from a set."
   ]
  },
  {
   "cell_type": "code",
   "execution_count": 158,
   "id": "92f2c14a",
   "metadata": {},
   "outputs": [
    {
     "data": {
      "text/plain": [
       "{1, 2, 4, 5}"
      ]
     },
     "execution_count": 158,
     "metadata": {},
     "output_type": "execute_result"
    }
   ],
   "source": [
    "set1 = {1,2,3,4,5}\n",
    "\n",
    "set1.remove(3)\n",
    "set1"
   ]
  },
  {
   "cell_type": "markdown",
   "id": "7cf396e3",
   "metadata": {},
   "source": [
    "# Check if an element exists in a set."
   ]
  },
  {
   "cell_type": "code",
   "execution_count": 159,
   "id": "923f9c4d",
   "metadata": {},
   "outputs": [
    {
     "name": "stdout",
     "output_type": "stream",
     "text": [
      "Yes!\n"
     ]
    }
   ],
   "source": [
    "set1 = {1,2,3,4,5}\n",
    "if 1 in set1:\n",
    "    print(\"Yes!\")\n",
    "else:\n",
    "    print(\"No!\")"
   ]
  },
  {
   "cell_type": "markdown",
   "id": "6afa9382",
   "metadata": {},
   "source": [
    "# Find the length of a set without using the `len()` function."
   ]
  },
  {
   "cell_type": "code",
   "execution_count": 160,
   "id": "49290f2d",
   "metadata": {},
   "outputs": [
    {
     "name": "stdout",
     "output_type": "stream",
     "text": [
      "Length of a set: 5\n"
     ]
    }
   ],
   "source": [
    "set1 = {1,2,3,4,5}\n",
    "length = 0\n",
    "\n",
    "for i in set1:\n",
    "    length += 1\n",
    "print('Length of a set:',length)    "
   ]
  },
  {
   "cell_type": "markdown",
   "id": "ed6d4146",
   "metadata": {},
   "source": [
    "# Clear all elements from a set."
   ]
  },
  {
   "cell_type": "code",
   "execution_count": 161,
   "id": "ddd0cbcc",
   "metadata": {},
   "outputs": [
    {
     "data": {
      "text/plain": [
       "set()"
      ]
     },
     "execution_count": 161,
     "metadata": {},
     "output_type": "execute_result"
    }
   ],
   "source": [
    "set1 = {1,2,3,4,5}\n",
    "set1.clear()\n",
    "set1"
   ]
  },
  {
   "cell_type": "markdown",
   "id": "cfa3d6d4",
   "metadata": {},
   "source": [
    "# Create a set of even numbers from 1 to 10."
   ]
  },
  {
   "cell_type": "code",
   "execution_count": 162,
   "id": "ec7234c1",
   "metadata": {},
   "outputs": [
    {
     "name": "stdout",
     "output_type": "stream",
     "text": [
      "{2, 4, 6, 8, 10}\n"
     ]
    }
   ],
   "source": [
    "sets = range(1, 11)\n",
    "\n",
    "even_num = {i for i in sets if i % 2== 0}\n",
    "print(even_num)"
   ]
  },
  {
   "cell_type": "markdown",
   "id": "74692ab2",
   "metadata": {},
   "source": [
    "# Create a set of odd numbers from 1 to 10."
   ]
  },
  {
   "cell_type": "code",
   "execution_count": 163,
   "id": "94990e8d",
   "metadata": {},
   "outputs": [
    {
     "name": "stdout",
     "output_type": "stream",
     "text": [
      "{1, 3, 5, 7, 9}\n"
     ]
    }
   ],
   "source": [
    "sets = range(1, 11)\n",
    "\n",
    "odd_num = {i for i in sets if i % 2== 1}\n",
    "print(odd_num)"
   ]
  },
  {
   "cell_type": "markdown",
   "id": "94b34834",
   "metadata": {},
   "source": [
    "# Find the union of two sets."
   ]
  },
  {
   "cell_type": "code",
   "execution_count": 164,
   "id": "21db472c",
   "metadata": {},
   "outputs": [
    {
     "data": {
      "text/plain": [
       "{1, 2, 3, 4, 5, 6, 7, 8, 9}"
      ]
     },
     "execution_count": 164,
     "metadata": {},
     "output_type": "execute_result"
    }
   ],
   "source": [
    "set1 = {1,2,3,4,5}\n",
    "set2 = {4,5,6,7,8,9}\n",
    "set3 = set1.union(set2)\n",
    "set3"
   ]
  },
  {
   "cell_type": "markdown",
   "id": "1f2efb6b",
   "metadata": {},
   "source": [
    "# Find the intersection of two sets."
   ]
  },
  {
   "cell_type": "code",
   "execution_count": 165,
   "id": "cedc9847",
   "metadata": {},
   "outputs": [
    {
     "data": {
      "text/plain": [
       "{4, 5}"
      ]
     },
     "execution_count": 165,
     "metadata": {},
     "output_type": "execute_result"
    }
   ],
   "source": [
    "set1 = {1,2,3,4,5}\n",
    "set2 = {4,5,6,7,8,9}\n",
    "set3 = set1.intersection(set2)\n",
    "set3"
   ]
  },
  {
   "cell_type": "markdown",
   "id": "640105fe",
   "metadata": {},
   "source": [
    "# Find the difference between two sets."
   ]
  },
  {
   "cell_type": "code",
   "execution_count": 166,
   "id": "a5099c08",
   "metadata": {},
   "outputs": [
    {
     "data": {
      "text/plain": [
       "{1, 2, 3}"
      ]
     },
     "execution_count": 166,
     "metadata": {},
     "output_type": "execute_result"
    }
   ],
   "source": [
    "set1 = {1,2,3,4,5}\n",
    "set2 = {4,5,6,7,8,9}\n",
    "set3 = set1.difference(set2)\n",
    "set3"
   ]
  },
  {
   "cell_type": "markdown",
   "id": "75881c39",
   "metadata": {},
   "source": [
    "# Check if a set is a subset of another set."
   ]
  },
  {
   "cell_type": "code",
   "execution_count": 167,
   "id": "b740899f",
   "metadata": {},
   "outputs": [
    {
     "name": "stdout",
     "output_type": "stream",
     "text": [
      "Yes, set_b is a subset of set_a\n"
     ]
    }
   ],
   "source": [
    "set_a = {1,2,3,4,5,6,7}\n",
    "set_b = {4,5,6}\n",
    "check = set_b.issubset(set_a)\n",
    "\n",
    "if check:\n",
    "    print(\"Yes, set_b is a subset of set_a\")\n",
    "else:\n",
    "    print(\"Yes, set_b is not a subset of set_a\")"
   ]
  },
  {
   "cell_type": "markdown",
   "id": "e99fa46f",
   "metadata": {},
   "source": [
    "# Check if a set is a superset of another set."
   ]
  },
  {
   "cell_type": "code",
   "execution_count": 168,
   "id": "f1ca35d7",
   "metadata": {},
   "outputs": [
    {
     "name": "stdout",
     "output_type": "stream",
     "text": [
      "Yes, set_a is a superset of set_b.\n"
     ]
    }
   ],
   "source": [
    "set_a = {1,2,3,4,5,6,7}\n",
    "set_b = {4,5,6}\n",
    "check = set_a.issuperset(set_b)\n",
    "\n",
    "if check:\n",
    "    print(\"Yes, set_a is a superset of set_b.\")\n",
    "else:\n",
    "    print(\"Yes, set_a is not a superset of set_b.\")"
   ]
  },
  {
   "cell_type": "markdown",
   "id": "d10d76c4",
   "metadata": {},
   "source": [
    "# Create a set from a list."
   ]
  },
  {
   "cell_type": "code",
   "execution_count": 169,
   "id": "4f114d64",
   "metadata": {},
   "outputs": [
    {
     "name": "stdout",
     "output_type": "stream",
     "text": [
      "{'apple', 'banana', 'cherry'}\n"
     ]
    }
   ],
   "source": [
    "lis = ['apple', 'banana', 'cherry']\n",
    "sts = set(lis)\n",
    "print(sts)"
   ]
  },
  {
   "cell_type": "markdown",
   "id": "87341f80",
   "metadata": {},
   "source": [
    "# Create a list from a set."
   ]
  },
  {
   "cell_type": "code",
   "execution_count": 170,
   "id": "45fdc321",
   "metadata": {},
   "outputs": [
    {
     "name": "stdout",
     "output_type": "stream",
     "text": [
      "['apple', 'banana', 'cherry']\n"
     ]
    }
   ],
   "source": [
    "sets = {'apple', 'banana', 'cherry'}\n",
    "lis = list(sets)\n",
    "print(lis)"
   ]
  },
  {
   "cell_type": "markdown",
   "id": "f632ddeb",
   "metadata": {},
   "source": [
    "# Remove a random element from a set."
   ]
  },
  {
   "cell_type": "code",
   "execution_count": 171,
   "id": "2c974a0b",
   "metadata": {},
   "outputs": [
    {
     "name": "stdout",
     "output_type": "stream",
     "text": [
      "Randomly Removed Element: 1\n",
      "Updated set: {2, 3, 4, 5}\n"
     ]
    }
   ],
   "source": [
    "import random\n",
    "\n",
    "my_set  = {1,2,3,4,5}\n",
    "\n",
    "random_element = random.choice(list(my_set))\n",
    "\n",
    "my_set.remove(random_element)\n",
    "print(\"Randomly Removed Element:\", random_element)\n",
    "print(\"Updated set:\", my_set)"
   ]
  },
  {
   "cell_type": "markdown",
   "id": "902cd87a",
   "metadata": {},
   "source": [
    "# Pop an element from a set."
   ]
  },
  {
   "cell_type": "code",
   "execution_count": 172,
   "id": "ef555bce",
   "metadata": {},
   "outputs": [
    {
     "data": {
      "text/plain": [
       "{'banana', 'cherry'}"
      ]
     },
     "execution_count": 172,
     "metadata": {},
     "output_type": "execute_result"
    }
   ],
   "source": [
    "sets = {'apple', 'banana', 'cherry'}\n",
    "sets.pop()\n",
    "sets"
   ]
  },
  {
   "cell_type": "markdown",
   "id": "16f35173",
   "metadata": {},
   "source": [
    "# Check if two sets have no elements in common."
   ]
  },
  {
   "cell_type": "code",
   "execution_count": 173,
   "id": "31f7d00d",
   "metadata": {},
   "outputs": [
    {
     "name": "stdout",
     "output_type": "stream",
     "text": [
      "The sets have no common elements.\n"
     ]
    }
   ],
   "source": [
    "set1 = {1,2,3}\n",
    "set2 = {4,5,6}\n",
    "\n",
    "no_common_elements= set1.isdisjoint(set2)\n",
    "\n",
    "if no_common_elements:\n",
    "    print(\"The sets have no common elements.\")\n",
    "else:\n",
    "    print(\"The sets have common elements.\")"
   ]
  },
  {
   "cell_type": "markdown",
   "id": "7e298f36",
   "metadata": {},
   "source": [
    "# Find the symmetric difference between two sets."
   ]
  },
  {
   "cell_type": "code",
   "execution_count": 174,
   "id": "c240e860",
   "metadata": {},
   "outputs": [
    {
     "name": "stdout",
     "output_type": "stream",
     "text": [
      "{1, 2, 3, 6, 7, 8, 9}\n"
     ]
    }
   ],
   "source": [
    "set1 = {1,2,3,4,5}\n",
    "set2 = {4,5,6,7,8,9}\n",
    "\n",
    "set3 = set1.symmetric_difference(set2)\n",
    "print(set3)"
   ]
  },
  {
   "cell_type": "markdown",
   "id": "d90fecd2",
   "metadata": {},
   "source": [
    "# Update a set with elements from another set."
   ]
  },
  {
   "cell_type": "code",
   "execution_count": 175,
   "id": "e1f93ea1",
   "metadata": {},
   "outputs": [
    {
     "data": {
      "text/plain": [
       "{1, 2, 3, 4, 5, 6, 7, 8, 9}"
      ]
     },
     "execution_count": 175,
     "metadata": {},
     "output_type": "execute_result"
    }
   ],
   "source": [
    "set1 = {1,2,3,4,5}\n",
    "set2 = {4,5,6,7,8,9}\n",
    "\n",
    "set1.update(set2)\n",
    "set1"
   ]
  },
  {
   "cell_type": "markdown",
   "id": "0536195f",
   "metadata": {},
   "source": [
    "# Create a set of the first 5 prime numbers."
   ]
  },
  {
   "cell_type": "code",
   "execution_count": 86,
   "id": "83b93f2c",
   "metadata": {},
   "outputs": [
    {
     "name": "stdout",
     "output_type": "stream",
     "text": [
      "Set of the first 5 prime numbers: {2, 3, 5, 7, 11}\n"
     ]
    }
   ],
   "source": [
    "prime_num = set()\n",
    "num = 2\n",
    "\n",
    "while len(prime_num) < 5:\n",
    "    is_prime = True\n",
    "    for i in range(2, int(num**0.5)+1):\n",
    "        if num % i == 0:\n",
    "            is_prime = False\n",
    "            break\n",
    "    if is_prime:\n",
    "        prime_num.add(num)\n",
    "    num += 1   \n",
    "    \n",
    "print(\"Set of the first 5 prime numbers:\", prime_num)    "
   ]
  },
  {
   "cell_type": "markdown",
   "id": "22e34957",
   "metadata": {},
   "source": [
    "# Check if two sets are identical."
   ]
  },
  {
   "cell_type": "code",
   "execution_count": 1,
   "id": "e285e3b5",
   "metadata": {},
   "outputs": [
    {
     "name": "stdout",
     "output_type": "stream",
     "text": [
      "Both the sets are identical.\n"
     ]
    }
   ],
   "source": [
    "set1 = {1,2,3,4,5}\n",
    "set2 = {1,2,3,4,5}\n",
    "\n",
    "if set1 == set2:\n",
    "    print(\"Both the sets are identical.\")\n",
    "else:\n",
    "    print(\"Both the sets are not identical.\")"
   ]
  },
  {
   "cell_type": "markdown",
   "id": "07e579b8",
   "metadata": {},
   "source": [
    "# Create a frozen set."
   ]
  },
  {
   "cell_type": "code",
   "execution_count": 5,
   "id": "0417da32",
   "metadata": {},
   "outputs": [
    {
     "name": "stdout",
     "output_type": "stream",
     "text": [
      "Original Set: {1, 2, 3, 4, 5}\n",
      "Frozen Set: frozenset({1, 2, 3, 4, 5})\n"
     ]
    }
   ],
   "source": [
    "my_set = {1,2,3,4,5}\n",
    "\n",
    "frozen_set = frozenset(my_set)\n",
    "\n",
    "print(\"Original Set:\", my_set)\n",
    "print(\"Frozen Set:\", frozen_set)"
   ]
  },
  {
   "cell_type": "markdown",
   "id": "7c2e30d4",
   "metadata": {},
   "source": [
    "# Check if a set is disjoint with another set."
   ]
  },
  {
   "cell_type": "code",
   "execution_count": 7,
   "id": "ccc00427",
   "metadata": {},
   "outputs": [
    {
     "name": "stdout",
     "output_type": "stream",
     "text": [
      "The sets are disjoint(have no common elements).\n"
     ]
    }
   ],
   "source": [
    "set1 = {1,2,3}\n",
    "set2 = {4,5,6}\n",
    "\n",
    "no_common_elements= set1.isdisjoint(set2)\n",
    "\n",
    "if no_common_elements:\n",
    "    print(\"The sets are disjoint(have no common elements).\")\n",
    "else:\n",
    "    print(\"The sets have some common elements.\")"
   ]
  },
  {
   "cell_type": "markdown",
   "id": "319b9410",
   "metadata": {},
   "source": [
    "# Create a set of squares of numbers from 1 to 5."
   ]
  },
  {
   "cell_type": "code",
   "execution_count": 10,
   "id": "73ff6095",
   "metadata": {},
   "outputs": [
    {
     "name": "stdout",
     "output_type": "stream",
     "text": [
      "set of squares: {1, 4, 9, 16, 25}\n"
     ]
    }
   ],
   "source": [
    "sets = set(x**2  for x in range(1,6))\n",
    "print('set of squares:', sets)"
   ]
  },
  {
   "cell_type": "markdown",
   "id": "bf1a65eb",
   "metadata": {},
   "source": [
    "# Filter out all even numbers from a set."
   ]
  },
  {
   "cell_type": "code",
   "execution_count": 12,
   "id": "a5fc1a9d",
   "metadata": {},
   "outputs": [
    {
     "name": "stdout",
     "output_type": "stream",
     "text": [
      "{2, 4, 6, 8, 10}\n"
     ]
    }
   ],
   "source": [
    "sets = set(x for x in range(1, 11) if x % 2 == 0)\n",
    "print(sets)"
   ]
  },
  {
   "cell_type": "markdown",
   "id": "fe074b02",
   "metadata": {},
   "source": [
    "# Multiply all elements in a set by 2."
   ]
  },
  {
   "cell_type": "code",
   "execution_count": 13,
   "id": "6edc2640",
   "metadata": {},
   "outputs": [
    {
     "name": "stdout",
     "output_type": "stream",
     "text": [
      "{2, 4, 6, 8, 10, 12, 14, 16, 18, 20}\n"
     ]
    }
   ],
   "source": [
    "sets = set(x*2 for x in range(1,11))\n",
    "print(sets)"
   ]
  },
  {
   "cell_type": "markdown",
   "id": "a0f7ccf9",
   "metadata": {},
   "source": [
    "# Create a set of random numbers."
   ]
  },
  {
   "cell_type": "code",
   "execution_count": 24,
   "id": "52cf59e3",
   "metadata": {},
   "outputs": [
    {
     "name": "stdout",
     "output_type": "stream",
     "text": [
      "Set of random numbers: {33, 2, 41, 24, 31}\n"
     ]
    }
   ],
   "source": [
    "import random\n",
    "\n",
    "random_set = set()\n",
    "\n",
    "for _ in range(6):\n",
    "    random_set.add(random.randint(1,50))\n",
    "    \n",
    "print(\"Set of random numbers:\", random_set)"
   ]
  },
  {
   "cell_type": "markdown",
   "id": "cc5f66ef",
   "metadata": {},
   "source": [
    "# Check if a set is empty."
   ]
  },
  {
   "cell_type": "code",
   "execution_count": 25,
   "id": "fb87380c",
   "metadata": {},
   "outputs": [
    {
     "name": "stdout",
     "output_type": "stream",
     "text": [
      "No, this set is not empty\n"
     ]
    }
   ],
   "source": [
    "set1 = {33, 2, 41, 24, 31}\n",
    "\n",
    "if set1.clear():\n",
    "    print('Yes, this set is empty')\n",
    "else:\n",
    "    print(\"No, this set is not empty\")"
   ]
  },
  {
   "cell_type": "markdown",
   "id": "3d190a81",
   "metadata": {},
   "source": [
    "# Create a nested set ."
   ]
  },
  {
   "cell_type": "code",
   "execution_count": 38,
   "id": "c395be3c",
   "metadata": {},
   "outputs": [
    {
     "name": "stdout",
     "output_type": "stream",
     "text": [
      "Nested set: frozenset({frozenset({'a', 'b', 'c'}), frozenset({'z', 'y', 'x'}), frozenset({1, 2, 3})})\n"
     ]
    }
   ],
   "source": [
    "nested_set = frozenset([\n",
    "    frozenset({'a', 'b', 'c'}),\n",
    "    frozenset({1, 2, 3}),\n",
    "    frozenset({'x', 'y', 'z'})\n",
    "])\n",
    "\n",
    "print(\"Nested set:\", nested_set)"
   ]
  },
  {
   "cell_type": "markdown",
   "id": "65677796",
   "metadata": {},
   "source": [
    "# Remove an element from a set using the discard method."
   ]
  },
  {
   "cell_type": "code",
   "execution_count": 39,
   "id": "4b56b8a0",
   "metadata": {},
   "outputs": [
    {
     "data": {
      "text/plain": [
       "{2, 24, 31, 41}"
      ]
     },
     "execution_count": 39,
     "metadata": {},
     "output_type": "execute_result"
    }
   ],
   "source": [
    "set1 = {33, 2, 41, 24, 31}\n",
    "set1.discard(33)\n",
    "set1"
   ]
  },
  {
   "cell_type": "markdown",
   "id": "2703ee3c",
   "metadata": {},
   "source": [
    "# Compare two sets."
   ]
  },
  {
   "cell_type": "code",
   "execution_count": 42,
   "id": "d760448e",
   "metadata": {},
   "outputs": [
    {
     "name": "stdout",
     "output_type": "stream",
     "text": [
      "set1 == set2: False\n",
      "set1 != set2: True\n",
      "set1 < set2: False\n",
      "set1 <= set2: False\n",
      "set1 >= set2: False\n",
      "set1 > set2: False\n"
     ]
    }
   ],
   "source": [
    "set1 = {1,2,3}\n",
    "set2 = {1,2,4}\n",
    "\n",
    "print(\"set1 == set2:\", set1 == set2)\n",
    "print(\"set1 != set2:\", set1 != set2)\n",
    "print(\"set1 < set2:\", set1 < set2)\n",
    "print(\"set1 <= set2:\", set1 <= set2)\n",
    "print(\"set1 >= set2:\", set1 >= set2)\n",
    "print(\"set1 > set2:\", set1 > set2)"
   ]
  },
  {
   "cell_type": "markdown",
   "id": "896b09f0",
   "metadata": {},
   "source": [
    "# Convert a set of strings to a set of integers."
   ]
  },
  {
   "cell_type": "code",
   "execution_count": 51,
   "id": "2b6e232c",
   "metadata": {},
   "outputs": [
    {
     "name": "stdout",
     "output_type": "stream",
     "text": [
      "{1, 2, 3}\n"
     ]
    }
   ],
   "source": [
    "string_set = {'1', '2', '3'}\n",
    "int_set = set(int(x) for x in string_set)\n",
    "print(int_set)"
   ]
  },
  {
   "cell_type": "markdown",
   "id": "413de26c",
   "metadata": {},
   "source": [
    "# Convert a set of integers to a set of strings."
   ]
  },
  {
   "cell_type": "code",
   "execution_count": 55,
   "id": "2c7fec6f",
   "metadata": {},
   "outputs": [
    {
     "name": "stdout",
     "output_type": "stream",
     "text": [
      "{'2', '1', '3'}\n"
     ]
    }
   ],
   "source": [
    "int_set = {1, 2, 3}\n",
    "string_set = set(str(x) for x in int_set)\n",
    "print(string_set)"
   ]
  },
  {
   "cell_type": "markdown",
   "id": "0a9ec8cd",
   "metadata": {},
   "source": [
    "# Create a set from a tuple."
   ]
  },
  {
   "cell_type": "code",
   "execution_count": 56,
   "id": "9dd318bc",
   "metadata": {},
   "outputs": [
    {
     "name": "stdout",
     "output_type": "stream",
     "text": [
      "{1, 3, 4, 5}\n"
     ]
    }
   ],
   "source": [
    "tups = (1,3,4,5,5)\n",
    "sets = set(tups)\n",
    "print(sets)"
   ]
  },
  {
   "cell_type": "markdown",
   "id": "723dad29",
   "metadata": {},
   "source": [
    "# Convert a set to a tuple."
   ]
  },
  {
   "cell_type": "code",
   "execution_count": 57,
   "id": "0d95c593",
   "metadata": {},
   "outputs": [
    {
     "name": "stdout",
     "output_type": "stream",
     "text": [
      "(1, 3, 4, 5)\n"
     ]
    }
   ],
   "source": [
    "sets = {1,3,4,5,5}\n",
    "tups = tuple(sets)\n",
    "print(tups)"
   ]
  },
  {
   "cell_type": "markdown",
   "id": "611ffbed",
   "metadata": {},
   "source": [
    "# Find the maximum value in a set."
   ]
  },
  {
   "cell_type": "code",
   "execution_count": 59,
   "id": "14ae6cc6",
   "metadata": {},
   "outputs": [
    {
     "name": "stdout",
     "output_type": "stream",
     "text": [
      "8\n"
     ]
    }
   ],
   "source": [
    "sets = {1,2,3,4,6,7,8}\n",
    "\n",
    "max_value = max(sets)\n",
    "print(max_value)"
   ]
  },
  {
   "cell_type": "markdown",
   "id": "3dad4d16",
   "metadata": {},
   "source": [
    "# Find the minimum value in a set."
   ]
  },
  {
   "cell_type": "code",
   "execution_count": 60,
   "id": "07e77e05",
   "metadata": {},
   "outputs": [
    {
     "name": "stdout",
     "output_type": "stream",
     "text": [
      "1\n"
     ]
    }
   ],
   "source": [
    "sets = {1,2,3,4,6,7,8}\n",
    "\n",
    "min_value = min(sets)\n",
    "print(min_value)"
   ]
  },
  {
   "cell_type": "code",
   "execution_count": 64,
   "id": "4b82717c",
   "metadata": {},
   "outputs": [
    {
     "name": "stdout",
     "output_type": "stream",
     "text": [
      "enter values separated by spaces: 5 9 1 8 5 7 2 6 4\n",
      "set created from user input: {1, 2, 4, 5, 6, 7, 8, 9}\n"
     ]
    }
   ],
   "source": [
    "user_input = input(\"enter values separated by spaces: \")\n",
    "user_set = set(map(int, user_input.split()))\n",
    "\n",
    "print(\"set created from user input:\", user_set)"
   ]
  },
  {
   "cell_type": "markdown",
   "id": "746df698",
   "metadata": {},
   "source": [
    "# Check if the intersection of two sets is empty."
   ]
  },
  {
   "cell_type": "code",
   "execution_count": 67,
   "id": "988596e7",
   "metadata": {},
   "outputs": [
    {
     "name": "stdout",
     "output_type": "stream",
     "text": [
      "No, the intersection of two set is not  empty.\n"
     ]
    }
   ],
   "source": [
    "set1 = {1,2,3}\n",
    "set2 = {1,2,4}\n",
    "\n",
    "inter = set1.intersection(set2)\n",
    "if inter.clear():\n",
    "    print(\"Yes, the intersection of two set is empty.\")\n",
    "else:\n",
    "    print(\"No, the intersection of two set is not  empty.\")"
   ]
  },
  {
   "cell_type": "markdown",
   "id": "f2556b8f",
   "metadata": {},
   "source": [
    "# Create a set of the first 5 Fibonacci numbers."
   ]
  },
  {
   "cell_type": "code",
   "execution_count": 69,
   "id": "18b928d6",
   "metadata": {},
   "outputs": [
    {
     "name": "stdout",
     "output_type": "stream",
     "text": [
      "Original Fibonacci Number: [0, 1, 1, 2, 3]\n",
      "Set of Fibonacci Number: {0, 1, 2, 3}\n"
     ]
    }
   ],
   "source": [
    "fibonacci_num = [0,1]\n",
    "\n",
    "for i in range(2,5):\n",
    "    num = fibonacci_num[i-1] + fibonacci_num[i-2]\n",
    "    fibonacci_num.append(num)\n",
    "    \n",
    "\n",
    "print(\"Original Fibonacci Number:\", fibonacci_num)\n",
    "print(\"Set of Fibonacci Number:\", set(fibonacci_num))"
   ]
  },
  {
   "cell_type": "markdown",
   "id": "fbe5a1aa",
   "metadata": {},
   "source": [
    "# Remove duplicates from a list using sets."
   ]
  },
  {
   "cell_type": "code",
   "execution_count": 74,
   "id": "c88638b2",
   "metadata": {},
   "outputs": [
    {
     "data": {
      "text/plain": [
       "{1, 2, 3, 5, 8}"
      ]
     },
     "execution_count": 74,
     "metadata": {},
     "output_type": "execute_result"
    }
   ],
   "source": [
    "lis = [1,2, 3, 5,5,8,8]\n",
    "lis_set = set(lis)\n",
    "lis_set"
   ]
  },
  {
   "cell_type": "code",
   "execution_count": 75,
   "id": "f2654694",
   "metadata": {},
   "outputs": [
    {
     "data": {
      "text/plain": [
       "[1, 2, 3, 5, 8]"
      ]
     },
     "execution_count": 75,
     "metadata": {},
     "output_type": "execute_result"
    }
   ],
   "source": [
    "set_lis = list(lis_set)\n",
    "set_lis"
   ]
  },
  {
   "cell_type": "markdown",
   "id": "8717c61b",
   "metadata": {},
   "source": [
    "# Check if two sets have the same elements, regardless of their count."
   ]
  },
  {
   "cell_type": "code",
   "execution_count": 76,
   "id": "1d5c45ad",
   "metadata": {},
   "outputs": [
    {
     "name": "stdout",
     "output_type": "stream",
     "text": [
      "The sets have the same elements, regardless of count.\n"
     ]
    }
   ],
   "source": [
    "set1 = {1,2,3,4}\n",
    "set2 = {4,3,2,1,1}\n",
    "\n",
    "if set1 == set2:\n",
    "    print(\"The sets have the same elements, regardless of count.\")\n",
    "else:\n",
    "    print(\"The sets have the different elements.\")"
   ]
  },
  {
   "cell_type": "markdown",
   "id": "b257eaaf",
   "metadata": {},
   "source": [
    "# Create a set of the first `n` powers of 2."
   ]
  },
  {
   "cell_type": "code",
   "execution_count": 77,
   "id": "0f4a14dc",
   "metadata": {},
   "outputs": [
    {
     "name": "stdout",
     "output_type": "stream",
     "text": [
      "{1, 2, 4, 8, 16}\n"
     ]
    }
   ],
   "source": [
    "n = 5\n",
    "\n",
    "power_of_2 = set(2**i for i in range(n))\n",
    "print(power_of_2)    "
   ]
  },
  {
   "cell_type": "markdown",
   "id": "3310adb3",
   "metadata": {},
   "source": [
    "# Find the common elements between a set and a list."
   ]
  },
  {
   "cell_type": "code",
   "execution_count": 79,
   "id": "a5ba48ef",
   "metadata": {},
   "outputs": [
    {
     "name": "stdout",
     "output_type": "stream",
     "text": [
      "Common elements: {3, 4, 5}\n"
     ]
    }
   ],
   "source": [
    "my_set = {1,2,3,4,5}\n",
    "my_list = [3,4,5,6,7]\n",
    "\n",
    "common_elements = my_set.intersection(my_list)\n",
    "print(\"Common elements:\", common_elements)"
   ]
  },
  {
   "cell_type": "markdown",
   "id": "3e8460d8",
   "metadata": {},
   "source": [
    "# Create a set of the first `n` triangular numbers."
   ]
  },
  {
   "cell_type": "code",
   "execution_count": 80,
   "id": "e1135b95",
   "metadata": {},
   "outputs": [
    {
     "name": "stdout",
     "output_type": "stream",
     "text": [
      "Triangular Number: {1, 3, 6, 10, 15, 21, 28}\n"
     ]
    }
   ],
   "source": [
    "triangular_number = []\n",
    "sum = 0\n",
    "n = 7\n",
    "\n",
    "for i in range(1, n+1):\n",
    "    sum += i\n",
    "    triangular_number.append(sum)\n",
    "    \n",
    "triangular_number = set(triangular_number)\n",
    "print(\"Triangular Number:\", triangular_number)"
   ]
  },
  {
   "cell_type": "markdown",
   "id": "539b8096",
   "metadata": {},
   "source": [
    "# Check if a set contains another set as a subset."
   ]
  },
  {
   "cell_type": "code",
   "execution_count": 81,
   "id": "913626ae",
   "metadata": {},
   "outputs": [
    {
     "name": "stdout",
     "output_type": "stream",
     "text": [
      "set2 is a subset of set1\n"
     ]
    }
   ],
   "source": [
    "set1 = {1,2,3,5,7}\n",
    "set2 = {2,3}\n",
    "\n",
    "if set2 <= set1:\n",
    "    print(\"set2 is a subset of set1\")\n",
    "else:\n",
    "    print(\"set2 is not a subset of set1\")"
   ]
  },
  {
   "cell_type": "markdown",
   "id": "143b8483",
   "metadata": {},
   "source": [
    "# Create a set of alternating 1s and 0s of length `n`."
   ]
  },
  {
   "cell_type": "code",
   "execution_count": 83,
   "id": "1164f04f",
   "metadata": {},
   "outputs": [
    {
     "name": "stdout",
     "output_type": "stream",
     "text": [
      "Alternating number: {0, 1}\n"
     ]
    }
   ],
   "source": [
    "n = 6\n",
    "\n",
    "alternating_num = set(1 if i % 2 == 0 else 0 for i in range(n))\n",
    "print(\"Alternating number:\", alternating_num)"
   ]
  },
  {
   "cell_type": "markdown",
   "id": "34bb4ede",
   "metadata": {},
   "source": [
    "# Merge multiple sets into one."
   ]
  },
  {
   "cell_type": "code",
   "execution_count": 84,
   "id": "be922f0b",
   "metadata": {},
   "outputs": [
    {
     "name": "stdout",
     "output_type": "stream",
     "text": [
      "Merged Set: {0, 1, 2, 34, 3, 5, 6, 4, 8, 9, 78, 56}\n"
     ]
    }
   ],
   "source": [
    "x = {1,2,34,5,6}\n",
    "y = {3,56,8,9}\n",
    "z = {2,4,78,0,6}\n",
    "\n",
    "merged_set_method = x.union(y,z)\n",
    "print(\"Merged Set:\", merged_set_method)"
   ]
  },
  {
   "cell_type": "code",
   "execution_count": null,
   "id": "688e3112",
   "metadata": {},
   "outputs": [],
   "source": []
  },
  {
   "cell_type": "code",
   "execution_count": null,
   "id": "3a4869b9",
   "metadata": {},
   "outputs": [],
   "source": []
  },
  {
   "cell_type": "code",
   "execution_count": null,
   "id": "8e68e603",
   "metadata": {},
   "outputs": [],
   "source": []
  },
  {
   "cell_type": "code",
   "execution_count": null,
   "id": "e028fac8",
   "metadata": {},
   "outputs": [],
   "source": []
  }
 ],
 "metadata": {
  "kernelspec": {
   "display_name": "Python 3 (ipykernel)",
   "language": "python",
   "name": "python3"
  },
  "language_info": {
   "codemirror_mode": {
    "name": "ipython",
    "version": 3
   },
   "file_extension": ".py",
   "mimetype": "text/x-python",
   "name": "python",
   "nbconvert_exporter": "python",
   "pygments_lexer": "ipython3",
   "version": "3.11.5"
  }
 },
 "nbformat": 4,
 "nbformat_minor": 5
}
